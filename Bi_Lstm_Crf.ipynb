{
  "cells": [
    {
      "cell_type": "markdown",
      "metadata": {
        "id": "view-in-github",
        "colab_type": "text"
      },
      "source": [
        "<a href=\"https://colab.research.google.com/github/Aliht72/BI-LSTM-CRF-BERT-/blob/main/Bi_Lstm_Crf.ipynb\" target=\"_parent\"><img src=\"https://colab.research.google.com/assets/colab-badge.svg\" alt=\"Open In Colab\"/></a>"
      ]
    },
    {
      "cell_type": "code",
      "execution_count": null,
      "metadata": {
        "colab": {
          "base_uri": "https://localhost:8080/"
        },
        "id": "cGzp1V1H0-SP",
        "outputId": "b84cedd9-f011-45c5-b084-c70c76d323cb"
      },
      "outputs": [
        {
          "name": "stdout",
          "output_type": "stream",
          "text": [
            "Looking in indexes: https://pypi.org/simple, https://us-python.pkg.dev/colab-wheels/public/simple/\n",
            "Collecting git+https://www.github.com/keras-team/keras-contrib.git\n",
            "  Cloning https://www.github.com/keras-team/keras-contrib.git to /tmp/pip-req-build-mljezbdn\n",
            "  Running command git clone -q https://www.github.com/keras-team/keras-contrib.git /tmp/pip-req-build-mljezbdn\n",
            "Requirement already satisfied: keras in /usr/local/lib/python3.7/dist-packages (from keras-contrib==2.0.8) (2.8.0)\n",
            "Building wheels for collected packages: keras-contrib\n",
            "  Building wheel for keras-contrib (setup.py) ... \u001b[?25l\u001b[?25hdone\n",
            "  Created wheel for keras-contrib: filename=keras_contrib-2.0.8-py3-none-any.whl size=101077 sha256=9692b8b63ba11c6f5b62764bfbac7e6a7e0874692428d3e433ac451c3797e954\n",
            "  Stored in directory: /tmp/pip-ephem-wheel-cache-06wh8i7x/wheels/bb/1f/f2/b57495012683b6b20bbae94a3915ec79753111452d79886abc\n",
            "Successfully built keras-contrib\n",
            "Installing collected packages: keras-contrib\n",
            "Successfully installed keras-contrib-2.0.8\n"
          ]
        }
      ],
      "source": [
        "!pip install git+https://www.github.com/keras-team/keras-contrib.git\n"
      ]
    },
    {
      "cell_type": "code",
      "execution_count": null,
      "metadata": {
        "colab": {
          "background_save": true,
          "base_uri": "https://localhost:8080/"
        },
        "id": "FcuT2JvvcbqD",
        "outputId": "a65c7bc5-db76-4826-b419-b9f25c9e6f5e"
      },
      "outputs": [
        {
          "name": "stdout",
          "output_type": "stream",
          "text": [
            "Found existing installation: tensorflow 2.8.2+zzzcolab20220719082949\n",
            "Uninstalling tensorflow-2.8.2+zzzcolab20220719082949:\n",
            "  Would remove:\n",
            "    /usr/local/bin/estimator_ckpt_converter\n",
            "    /usr/local/bin/import_pb_to_tensorboard\n",
            "    /usr/local/bin/saved_model_cli\n",
            "    /usr/local/bin/tensorboard\n",
            "    /usr/local/bin/tf_upgrade_v2\n",
            "    /usr/local/bin/tflite_convert\n",
            "    /usr/local/bin/toco\n",
            "    /usr/local/bin/toco_from_protos\n",
            "    /usr/local/lib/python3.7/dist-packages/tensorflow-2.8.2+zzzcolab20220719082949.dist-info/*\n",
            "    /usr/local/lib/python3.7/dist-packages/tensorflow/*\n",
            "Proceed (y/n)? "
          ]
        }
      ],
      "source": [
        "!pip uninstall tensorflow"
      ]
    },
    {
      "cell_type": "code",
      "execution_count": null,
      "metadata": {
        "colab": {
          "base_uri": "https://localhost:8080/"
        },
        "id": "V248x-X6crNn",
        "outputId": "dcb4c2ce-0ba8-4d30-dace-064481c7c0a3"
      },
      "outputs": [
        {
          "name": "stdout",
          "output_type": "stream",
          "text": [
            "Looking in indexes: https://pypi.org/simple, https://us-python.pkg.dev/colab-wheels/public/simple/\n",
            "Collecting tensorflow==1.13.1\n",
            "  Downloading tensorflow-1.13.1-cp37-cp37m-manylinux1_x86_64.whl (92.6 MB)\n",
            "\u001b[K     |████████████████████████████████| 92.6 MB 91 kB/s \n",
            "\u001b[?25hRequirement already satisfied: absl-py>=0.1.6 in /usr/local/lib/python3.7/dist-packages (from tensorflow==1.13.1) (1.2.0)\n",
            "Collecting tensorflow-estimator<1.14.0rc0,>=1.13.0\n",
            "  Downloading tensorflow_estimator-1.13.0-py2.py3-none-any.whl (367 kB)\n",
            "\u001b[K     |████████████████████████████████| 367 kB 58.8 MB/s \n",
            "\u001b[?25hRequirement already satisfied: grpcio>=1.8.6 in /usr/local/lib/python3.7/dist-packages (from tensorflow==1.13.1) (1.48.1)\n",
            "Requirement already satisfied: keras-preprocessing>=1.0.5 in /usr/local/lib/python3.7/dist-packages (from tensorflow==1.13.1) (1.1.2)\n",
            "Collecting tensorboard<1.14.0,>=1.13.0\n",
            "  Downloading tensorboard-1.13.1-py3-none-any.whl (3.2 MB)\n",
            "\u001b[K     |████████████████████████████████| 3.2 MB 56.7 MB/s \n",
            "\u001b[?25hRequirement already satisfied: astor>=0.6.0 in /usr/local/lib/python3.7/dist-packages (from tensorflow==1.13.1) (0.8.1)\n",
            "Requirement already satisfied: numpy>=1.13.3 in /usr/local/lib/python3.7/dist-packages (from tensorflow==1.13.1) (1.21.6)\n",
            "Requirement already satisfied: protobuf>=3.6.1 in /usr/local/lib/python3.7/dist-packages (from tensorflow==1.13.1) (3.17.3)\n",
            "Collecting keras-applications>=1.0.6\n",
            "  Downloading Keras_Applications-1.0.8-py3-none-any.whl (50 kB)\n",
            "\u001b[K     |████████████████████████████████| 50 kB 5.5 MB/s \n",
            "\u001b[?25hRequirement already satisfied: wheel>=0.26 in /usr/local/lib/python3.7/dist-packages (from tensorflow==1.13.1) (0.37.1)\n",
            "Requirement already satisfied: termcolor>=1.1.0 in /usr/local/lib/python3.7/dist-packages (from tensorflow==1.13.1) (1.1.0)\n",
            "Requirement already satisfied: gast>=0.2.0 in /usr/local/lib/python3.7/dist-packages (from tensorflow==1.13.1) (0.5.3)\n",
            "Requirement already satisfied: six>=1.10.0 in /usr/local/lib/python3.7/dist-packages (from tensorflow==1.13.1) (1.15.0)\n",
            "Requirement already satisfied: h5py in /usr/local/lib/python3.7/dist-packages (from keras-applications>=1.0.6->tensorflow==1.13.1) (3.1.0)\n",
            "Requirement already satisfied: werkzeug>=0.11.15 in /usr/local/lib/python3.7/dist-packages (from tensorboard<1.14.0,>=1.13.0->tensorflow==1.13.1) (1.0.1)\n",
            "Requirement already satisfied: markdown>=2.6.8 in /usr/local/lib/python3.7/dist-packages (from tensorboard<1.14.0,>=1.13.0->tensorflow==1.13.1) (3.4.1)\n",
            "Requirement already satisfied: importlib-metadata>=4.4 in /usr/local/lib/python3.7/dist-packages (from markdown>=2.6.8->tensorboard<1.14.0,>=1.13.0->tensorflow==1.13.1) (4.12.0)\n",
            "Requirement already satisfied: zipp>=0.5 in /usr/local/lib/python3.7/dist-packages (from importlib-metadata>=4.4->markdown>=2.6.8->tensorboard<1.14.0,>=1.13.0->tensorflow==1.13.1) (3.8.1)\n",
            "Requirement already satisfied: typing-extensions>=3.6.4 in /usr/local/lib/python3.7/dist-packages (from importlib-metadata>=4.4->markdown>=2.6.8->tensorboard<1.14.0,>=1.13.0->tensorflow==1.13.1) (4.1.1)\n",
            "Collecting mock>=2.0.0\n",
            "  Downloading mock-4.0.3-py3-none-any.whl (28 kB)\n",
            "Requirement already satisfied: cached-property in /usr/local/lib/python3.7/dist-packages (from h5py->keras-applications>=1.0.6->tensorflow==1.13.1) (1.5.2)\n",
            "Installing collected packages: mock, tensorflow-estimator, tensorboard, keras-applications, tensorflow\n",
            "  Attempting uninstall: tensorflow-estimator\n",
            "    Found existing installation: tensorflow-estimator 2.8.0\n",
            "    Uninstalling tensorflow-estimator-2.8.0:\n",
            "      Successfully uninstalled tensorflow-estimator-2.8.0\n",
            "  Attempting uninstall: tensorboard\n",
            "    Found existing installation: tensorboard 2.8.0\n",
            "    Uninstalling tensorboard-2.8.0:\n",
            "      Successfully uninstalled tensorboard-2.8.0\n",
            "\u001b[31mERROR: pip's dependency resolver does not currently take into account all the packages that are installed. This behaviour is the source of the following dependency conflicts.\n",
            "kapre 0.3.7 requires tensorflow>=2.0.0, but you have tensorflow 1.13.1 which is incompatible.\u001b[0m\n",
            "Successfully installed keras-applications-1.0.8 mock-4.0.3 tensorboard-1.13.1 tensorflow-1.13.1 tensorflow-estimator-1.13.0\n"
          ]
        }
      ],
      "source": [
        "!pip install tensorflow==1.13.1\n"
      ]
    },
    {
      "cell_type": "code",
      "execution_count": null,
      "metadata": {
        "colab": {
          "base_uri": "https://localhost:8080/"
        },
        "id": "MBmYZsHvcx94",
        "outputId": "2cbb659e-a347-498e-f393-1c79b6e3661c"
      },
      "outputs": [
        {
          "name": "stdout",
          "output_type": "stream",
          "text": [
            "Found existing installation: keras 2.8.0\n",
            "Uninstalling keras-2.8.0:\n",
            "  Would remove:\n",
            "    /usr/local/lib/python3.7/dist-packages/keras-2.8.0.dist-info/*\n",
            "    /usr/local/lib/python3.7/dist-packages/keras/*\n",
            "Proceed (y/n)? y\n",
            "  Successfully uninstalled keras-2.8.0\n"
          ]
        }
      ],
      "source": [
        "!pip uninstall keras"
      ]
    },
    {
      "cell_type": "code",
      "execution_count": null,
      "metadata": {
        "colab": {
          "base_uri": "https://localhost:8080/"
        },
        "id": "58xCyK86dj0w",
        "outputId": "699a1586-87e2-4991-dc14-956bc2355e1d"
      },
      "outputs": [
        {
          "name": "stdout",
          "output_type": "stream",
          "text": [
            "Looking in indexes: https://pypi.org/simple, https://us-python.pkg.dev/colab-wheels/public/simple/\n",
            "Collecting keras==2.2.4\n",
            "  Downloading Keras-2.2.4-py2.py3-none-any.whl (312 kB)\n",
            "\u001b[K     |████████████████████████████████| 312 kB 19.7 MB/s \n",
            "\u001b[?25hRequirement already satisfied: scipy>=0.14 in /usr/local/lib/python3.7/dist-packages (from keras==2.2.4) (1.7.3)\n",
            "Requirement already satisfied: six>=1.9.0 in /usr/local/lib/python3.7/dist-packages (from keras==2.2.4) (1.15.0)\n",
            "Requirement already satisfied: keras-applications>=1.0.6 in /usr/local/lib/python3.7/dist-packages (from keras==2.2.4) (1.0.8)\n",
            "Requirement already satisfied: h5py in /usr/local/lib/python3.7/dist-packages (from keras==2.2.4) (3.1.0)\n",
            "Requirement already satisfied: pyyaml in /usr/local/lib/python3.7/dist-packages (from keras==2.2.4) (6.0)\n",
            "Requirement already satisfied: numpy>=1.9.1 in /usr/local/lib/python3.7/dist-packages (from keras==2.2.4) (1.21.6)\n",
            "Requirement already satisfied: keras-preprocessing>=1.0.5 in /usr/local/lib/python3.7/dist-packages (from keras==2.2.4) (1.1.2)\n",
            "Requirement already satisfied: cached-property in /usr/local/lib/python3.7/dist-packages (from h5py->keras==2.2.4) (1.5.2)\n",
            "Installing collected packages: keras\n",
            "Successfully installed keras-2.2.4\n"
          ]
        }
      ],
      "source": [
        "!pip install keras==2.2.4"
      ]
    },
    {
      "cell_type": "code",
      "execution_count": null,
      "metadata": {
        "colab": {
          "base_uri": "https://localhost:8080/"
        },
        "id": "g-3bZpXpjDQI",
        "outputId": "8c176604-5c08-460d-cd7d-261817b1412b"
      },
      "outputs": [
        {
          "name": "stdout",
          "output_type": "stream",
          "text": [
            "Looking in indexes: https://pypi.org/simple, https://us-python.pkg.dev/colab-wheels/public/simple/\n",
            "Collecting seqeval\n",
            "  Downloading seqeval-1.2.2.tar.gz (43 kB)\n",
            "\u001b[K     |████████████████████████████████| 43 kB 2.1 MB/s \n",
            "\u001b[?25hRequirement already satisfied: numpy>=1.14.0 in /usr/local/lib/python3.7/dist-packages (from seqeval) (1.21.6)\n",
            "Requirement already satisfied: scikit-learn>=0.21.3 in /usr/local/lib/python3.7/dist-packages (from seqeval) (1.0.2)\n",
            "Requirement already satisfied: joblib>=0.11 in /usr/local/lib/python3.7/dist-packages (from scikit-learn>=0.21.3->seqeval) (1.1.0)\n",
            "Requirement already satisfied: threadpoolctl>=2.0.0 in /usr/local/lib/python3.7/dist-packages (from scikit-learn>=0.21.3->seqeval) (3.1.0)\n",
            "Requirement already satisfied: scipy>=1.1.0 in /usr/local/lib/python3.7/dist-packages (from scikit-learn>=0.21.3->seqeval) (1.7.3)\n",
            "Building wheels for collected packages: seqeval\n",
            "  Building wheel for seqeval (setup.py) ... \u001b[?25l\u001b[?25hdone\n",
            "  Created wheel for seqeval: filename=seqeval-1.2.2-py3-none-any.whl size=16180 sha256=95b99f5cd445384a1f13f1c21468cdcbd3f189ec345f8f39ed295c758dafd280\n",
            "  Stored in directory: /root/.cache/pip/wheels/05/96/ee/7cac4e74f3b19e3158dce26a20a1c86b3533c43ec72a549fd7\n",
            "Successfully built seqeval\n",
            "Installing collected packages: seqeval\n",
            "Successfully installed seqeval-1.2.2\n"
          ]
        }
      ],
      "source": [
        " !pip install seqeval"
      ]
    },
    {
      "cell_type": "code",
      "execution_count": null,
      "metadata": {
        "colab": {
          "base_uri": "https://localhost:8080/"
        },
        "id": "ziW8SN32jSiy",
        "outputId": "8d5e3db0-d32e-4bf9-919c-4643aec60725"
      },
      "outputs": [
        {
          "name": "stdout",
          "output_type": "stream",
          "text": [
            "Looking in indexes: https://pypi.org/simple, https://us-python.pkg.dev/colab-wheels/public/simple/\n",
            "Collecting sklearn-crfsuite\n",
            "  Downloading sklearn_crfsuite-0.3.6-py2.py3-none-any.whl (12 kB)\n",
            "Requirement already satisfied: tqdm>=2.0 in /usr/local/lib/python3.7/dist-packages (from sklearn-crfsuite) (4.64.1)\n",
            "Requirement already satisfied: six in /usr/local/lib/python3.7/dist-packages (from sklearn-crfsuite) (1.15.0)\n",
            "Collecting python-crfsuite>=0.8.3\n",
            "  Downloading python_crfsuite-0.9.8-cp37-cp37m-manylinux_2_17_x86_64.manylinux2014_x86_64.whl (965 kB)\n",
            "\u001b[K     |████████████████████████████████| 965 kB 37.5 MB/s \n",
            "\u001b[?25hRequirement already satisfied: tabulate in /usr/local/lib/python3.7/dist-packages (from sklearn-crfsuite) (0.8.10)\n",
            "Installing collected packages: python-crfsuite, sklearn-crfsuite\n",
            "Successfully installed python-crfsuite-0.9.8 sklearn-crfsuite-0.3.6\n"
          ]
        }
      ],
      "source": [
        "!pip install sklearn-crfsuite\n"
      ]
    },
    {
      "cell_type": "code",
      "execution_count": null,
      "metadata": {
        "colab": {
          "base_uri": "https://localhost:8080/"
        },
        "id": "8biu52zG2Qhl",
        "outputId": "7b0e9dda-9ac4-43b4-d7c1-6585be692390"
      },
      "outputs": [
        {
          "name": "stderr",
          "output_type": "stream",
          "text": [
            "/usr/local/lib/python3.7/dist-packages/tensorflow/python/framework/dtypes.py:526: FutureWarning: Passing (type, 1) or '1type' as a synonym of type is deprecated; in a future version of numpy, it will be understood as (type, (1,)) / '(1,)type'.\n",
            "  _np_qint8 = np.dtype([(\"qint8\", np.int8, 1)])\n",
            "/usr/local/lib/python3.7/dist-packages/tensorflow/python/framework/dtypes.py:527: FutureWarning: Passing (type, 1) or '1type' as a synonym of type is deprecated; in a future version of numpy, it will be understood as (type, (1,)) / '(1,)type'.\n",
            "  _np_quint8 = np.dtype([(\"quint8\", np.uint8, 1)])\n",
            "/usr/local/lib/python3.7/dist-packages/tensorflow/python/framework/dtypes.py:528: FutureWarning: Passing (type, 1) or '1type' as a synonym of type is deprecated; in a future version of numpy, it will be understood as (type, (1,)) / '(1,)type'.\n",
            "  _np_qint16 = np.dtype([(\"qint16\", np.int16, 1)])\n",
            "/usr/local/lib/python3.7/dist-packages/tensorflow/python/framework/dtypes.py:529: FutureWarning: Passing (type, 1) or '1type' as a synonym of type is deprecated; in a future version of numpy, it will be understood as (type, (1,)) / '(1,)type'.\n",
            "  _np_quint16 = np.dtype([(\"quint16\", np.uint16, 1)])\n",
            "/usr/local/lib/python3.7/dist-packages/tensorflow/python/framework/dtypes.py:530: FutureWarning: Passing (type, 1) or '1type' as a synonym of type is deprecated; in a future version of numpy, it will be understood as (type, (1,)) / '(1,)type'.\n",
            "  _np_qint32 = np.dtype([(\"qint32\", np.int32, 1)])\n",
            "/usr/local/lib/python3.7/dist-packages/tensorflow/python/framework/dtypes.py:535: FutureWarning: Passing (type, 1) or '1type' as a synonym of type is deprecated; in a future version of numpy, it will be understood as (type, (1,)) / '(1,)type'.\n",
            "  np_resource = np.dtype([(\"resource\", np.ubyte, 1)])\n",
            "Using TensorFlow backend.\n"
          ]
        }
      ],
      "source": [
        "import pandas as pd\n",
        "import numpy as np\n",
        "import matplotlib.pyplot as plt\n",
        "import tensorflow as tf\n",
        "import keras\n",
        "from keras.callbacks import ModelCheckpoint"
      ]
    },
    {
      "cell_type": "code",
      "execution_count": null,
      "metadata": {
        "id": "SSj0JPkBxr2S"
      },
      "outputs": [],
      "source": [
        "if tf.test.is_gpu_available():\n",
        "    BATCH_SIZE = 32  # Number of examples used in each iteration\n",
        "    EPOCHS = 20  # Number of passes through entire dataset\n",
        "    MAX_LEN = 75  # Max length of review (in words)\n",
        "    EMBEDDING = 40  # Dimension of word embedding vector\n",
        "# Hyperparams for CPU training\n",
        "else:\n",
        "    BATCH_SIZE = 32\n",
        "    EPOCHS = 20\n",
        "    MAX_LEN = 75\n",
        "    EMBEDDING = 40"
      ]
    },
    {
      "cell_type": "code",
      "execution_count": null,
      "metadata": {
        "colab": {
          "base_uri": "https://localhost:8080/",
          "height": 452
        },
        "id": "a79fM0XVuWps",
        "outputId": "1e086c52-dcb0-45db-85ae-ce07e3cae3e3"
      },
      "outputs": [
        {
          "name": "stdout",
          "output_type": "stream",
          "text": [
            "Number of sentences:  399\n",
            "Number of words in the dataset:  1537\n",
            "Tags: ['B-A', 'B-S', 'B-CR', 'I-A', 'I-QU', 'I-CR', 'O', 'B-Ref', 'I-S', 'B-QU', 'I-Ref']\n",
            "Number of Labels:  11\n",
            "What the dataset looks like:\n"
          ]
        },
        {
          "data": {
            "text/html": [
              "\n",
              "  <div id=\"df-8412526c-907a-478a-9ef5-7c5e62d6c6bd\">\n",
              "    <div class=\"colab-df-container\">\n",
              "      <div>\n",
              "<style scoped>\n",
              "    .dataframe tbody tr th:only-of-type {\n",
              "        vertical-align: middle;\n",
              "    }\n",
              "\n",
              "    .dataframe tbody tr th {\n",
              "        vertical-align: top;\n",
              "    }\n",
              "\n",
              "    .dataframe thead th {\n",
              "        text-align: right;\n",
              "    }\n",
              "</style>\n",
              "<table border=\"1\" class=\"dataframe\">\n",
              "  <thead>\n",
              "    <tr style=\"text-align: right;\">\n",
              "      <th></th>\n",
              "      <th>Word</th>\n",
              "      <th>Sentences</th>\n",
              "      <th>Tag</th>\n",
              "    </tr>\n",
              "  </thead>\n",
              "  <tbody>\n",
              "    <tr>\n",
              "      <th>0</th>\n",
              "      <td>door</td>\n",
              "      <td>Sentence: 1</td>\n",
              "      <td>B-S</td>\n",
              "    </tr>\n",
              "    <tr>\n",
              "      <th>1</th>\n",
              "      <td>openings</td>\n",
              "      <td>Sentence: 1</td>\n",
              "      <td>I-S</td>\n",
              "    </tr>\n",
              "    <tr>\n",
              "      <th>2</th>\n",
              "      <td>between</td>\n",
              "      <td>Sentence: 1</td>\n",
              "      <td>O</td>\n",
              "    </tr>\n",
              "    <tr>\n",
              "      <th>3</th>\n",
              "      <td>a</td>\n",
              "      <td>Sentence: 1</td>\n",
              "      <td>O</td>\n",
              "    </tr>\n",
              "    <tr>\n",
              "      <th>4</th>\n",
              "      <td>private</td>\n",
              "      <td>Sentence: 1</td>\n",
              "      <td>B-S</td>\n",
              "    </tr>\n",
              "    <tr>\n",
              "      <th>5</th>\n",
              "      <td>garage</td>\n",
              "      <td>Sentence: 1</td>\n",
              "      <td>I-S</td>\n",
              "    </tr>\n",
              "    <tr>\n",
              "      <th>6</th>\n",
              "      <td>and</td>\n",
              "      <td>Sentence: 1</td>\n",
              "      <td>O</td>\n",
              "    </tr>\n",
              "    <tr>\n",
              "      <th>7</th>\n",
              "      <td>the</td>\n",
              "      <td>Sentence: 1</td>\n",
              "      <td>O</td>\n",
              "    </tr>\n",
              "    <tr>\n",
              "      <th>8</th>\n",
              "      <td>dwelling</td>\n",
              "      <td>Sentence: 1</td>\n",
              "      <td>B-S</td>\n",
              "    </tr>\n",
              "    <tr>\n",
              "      <th>9</th>\n",
              "      <td>unit</td>\n",
              "      <td>Sentence: 1</td>\n",
              "      <td>I-S</td>\n",
              "    </tr>\n",
              "  </tbody>\n",
              "</table>\n",
              "</div>\n",
              "      <button class=\"colab-df-convert\" onclick=\"convertToInteractive('df-8412526c-907a-478a-9ef5-7c5e62d6c6bd')\"\n",
              "              title=\"Convert this dataframe to an interactive table.\"\n",
              "              style=\"display:none;\">\n",
              "        \n",
              "  <svg xmlns=\"http://www.w3.org/2000/svg\" height=\"24px\"viewBox=\"0 0 24 24\"\n",
              "       width=\"24px\">\n",
              "    <path d=\"M0 0h24v24H0V0z\" fill=\"none\"/>\n",
              "    <path d=\"M18.56 5.44l.94 2.06.94-2.06 2.06-.94-2.06-.94-.94-2.06-.94 2.06-2.06.94zm-11 1L8.5 8.5l.94-2.06 2.06-.94-2.06-.94L8.5 2.5l-.94 2.06-2.06.94zm10 10l.94 2.06.94-2.06 2.06-.94-2.06-.94-.94-2.06-.94 2.06-2.06.94z\"/><path d=\"M17.41 7.96l-1.37-1.37c-.4-.4-.92-.59-1.43-.59-.52 0-1.04.2-1.43.59L10.3 9.45l-7.72 7.72c-.78.78-.78 2.05 0 2.83L4 21.41c.39.39.9.59 1.41.59.51 0 1.02-.2 1.41-.59l7.78-7.78 2.81-2.81c.8-.78.8-2.07 0-2.86zM5.41 20L4 18.59l7.72-7.72 1.47 1.35L5.41 20z\"/>\n",
              "  </svg>\n",
              "      </button>\n",
              "      \n",
              "  <style>\n",
              "    .colab-df-container {\n",
              "      display:flex;\n",
              "      flex-wrap:wrap;\n",
              "      gap: 12px;\n",
              "    }\n",
              "\n",
              "    .colab-df-convert {\n",
              "      background-color: #E8F0FE;\n",
              "      border: none;\n",
              "      border-radius: 50%;\n",
              "      cursor: pointer;\n",
              "      display: none;\n",
              "      fill: #1967D2;\n",
              "      height: 32px;\n",
              "      padding: 0 0 0 0;\n",
              "      width: 32px;\n",
              "    }\n",
              "\n",
              "    .colab-df-convert:hover {\n",
              "      background-color: #E2EBFA;\n",
              "      box-shadow: 0px 1px 2px rgba(60, 64, 67, 0.3), 0px 1px 3px 1px rgba(60, 64, 67, 0.15);\n",
              "      fill: #174EA6;\n",
              "    }\n",
              "\n",
              "    [theme=dark] .colab-df-convert {\n",
              "      background-color: #3B4455;\n",
              "      fill: #D2E3FC;\n",
              "    }\n",
              "\n",
              "    [theme=dark] .colab-df-convert:hover {\n",
              "      background-color: #434B5C;\n",
              "      box-shadow: 0px 1px 3px 1px rgba(0, 0, 0, 0.15);\n",
              "      filter: drop-shadow(0px 1px 2px rgba(0, 0, 0, 0.3));\n",
              "      fill: #FFFFFF;\n",
              "    }\n",
              "  </style>\n",
              "\n",
              "      <script>\n",
              "        const buttonEl =\n",
              "          document.querySelector('#df-8412526c-907a-478a-9ef5-7c5e62d6c6bd button.colab-df-convert');\n",
              "        buttonEl.style.display =\n",
              "          google.colab.kernel.accessAllowed ? 'block' : 'none';\n",
              "\n",
              "        async function convertToInteractive(key) {\n",
              "          const element = document.querySelector('#df-8412526c-907a-478a-9ef5-7c5e62d6c6bd');\n",
              "          const dataTable =\n",
              "            await google.colab.kernel.invokeFunction('convertToInteractive',\n",
              "                                                     [key], {});\n",
              "          if (!dataTable) return;\n",
              "\n",
              "          const docLinkHtml = 'Like what you see? Visit the ' +\n",
              "            '<a target=\"_blank\" href=https://colab.research.google.com/notebooks/data_table.ipynb>data table notebook</a>'\n",
              "            + ' to learn more about interactive tables.';\n",
              "          element.innerHTML = '';\n",
              "          dataTable['output_type'] = 'display_data';\n",
              "          await google.colab.output.renderOutput(dataTable, element);\n",
              "          const docLink = document.createElement('div');\n",
              "          docLink.innerHTML = docLinkHtml;\n",
              "          element.appendChild(docLink);\n",
              "        }\n",
              "      </script>\n",
              "    </div>\n",
              "  </div>\n",
              "  "
            ],
            "text/plain": [
              "       Word    Sentences  Tag\n",
              "0      door  Sentence: 1  B-S\n",
              "1  openings  Sentence: 1  I-S\n",
              "2   between  Sentence: 1    O\n",
              "3         a  Sentence: 1    O\n",
              "4   private  Sentence: 1  B-S\n",
              "5    garage  Sentence: 1  I-S\n",
              "6       and  Sentence: 1    O\n",
              "7       the  Sentence: 1    O\n",
              "8  dwelling  Sentence: 1  B-S\n",
              "9      unit  Sentence: 1  I-S"
            ]
          },
          "execution_count": 38,
          "metadata": {},
          "output_type": "execute_result"
        }
      ],
      "source": [
        "data = pd.read_csv(\"text123.csv\", encoding=\"latin1\")\n",
        "data = data.fillna(method=\"ffill\")\n",
        "\n",
        "print(\"Number of sentences: \", len(data.groupby(['Sentences'])))\n",
        "words = list(set(data[\"Word\"].values))\n",
        "n_words = len(words)\n",
        "print(\"Number of words in the dataset: \", n_words)\n",
        "tags = list(set(data[\"Tag\"].values))\n",
        "print(\"Tags:\", tags)\n",
        "n_tags = len(tags)\n",
        "print(\"Number of Labels: \", n_tags)\n",
        "print(\"What the dataset looks like:\")\n",
        "# Show the first 10 rows\n",
        "data.head(n=10)"
      ]
    },
    {
      "cell_type": "code",
      "execution_count": null,
      "metadata": {
        "colab": {
          "base_uri": "https://localhost:8080/"
        },
        "id": "nSUX1nD0nx7m",
        "outputId": "310c6450-e1c7-4f03-bad2-472c84eaa0e9"
      },
      "outputs": [
        {
          "name": "stdout",
          "output_type": "stream",
          "text": [
            "This is what a sentence looks like:\n",
            "[('door', 'B-S'), ('openings', 'I-S'), ('between', 'O'), ('a', 'O'), ('private', 'B-S'), ('garage', 'I-S'), ('and', 'O'), ('the', 'O'), ('dwelling', 'B-S'), ('unit', 'I-S'), ('shall', 'O'), ('be', 'O'), ('equipped', 'O'), ('with', 'O'), ('steel', 'B-S'), ('doors', 'I-S'), ('not', 'B-CR'), ('less', 'I-CR'), ('than', 'I-CR'), ('3499mm', 'B-QU'), ('thick', 'B-A')]\n"
          ]
        }
      ],
      "source": [
        "class SentenceGetter(object):\n",
        "    \"\"\"Class to Get the sentence in this format:\n",
        "    [(Token_1, Part_of_Speech_1, Tag_1), ..., (Token_n, Part_of_Speech_1, Tag_1)]\"\"\"\n",
        "    def __init__(self, data):\n",
        "        \"\"\"Args:\n",
        "            data is the pandas.DataFrame which contains the above dataset\"\"\"\n",
        "        self.n_sent = 1\n",
        "        self.data = data\n",
        "        self.empty = False\n",
        "        agg_func = lambda s: [(w, p) for w, p in zip(s[\"Word\"].values.tolist(), s[\"Tag\"].values.tolist())]\n",
        "        self.grouped = self.data.groupby(\"Sentences\").apply(agg_func)\n",
        "        self.sentences = [s for s in self.grouped]\n",
        "    \n",
        "    def get_next(self):\n",
        "        \"\"\"Return one sentence\"\"\"\n",
        "        try:\n",
        "            s = self.grouped[\"Sentence: {}\".format(self.n_sent)]\n",
        "            self.n_sent += 1\n",
        "            return s\n",
        "        except:\n",
        "            return None\n",
        "class SentenceGetter(object):\n",
        "    \"\"\"Class to Get the sentence in this format:\n",
        "    [(Token_1, Part_of_Speech_1, Tag_1), ..., (Token_n, Part_of_Speech_1, Tag_1)]\"\"\"\n",
        "    def __init__(self, data):\n",
        "        \"\"\"Args:\n",
        "            data is the pandas.DataFrame which contains the above dataset\"\"\"\n",
        "        self.n_sent = 1\n",
        "        self.data = data\n",
        "        self.empty = False\n",
        "        agg_func = lambda s: [(w, p) for w, p in zip(s[\"Word\"].values.tolist(), s[\"Tag\"].values.tolist())]\n",
        "        self.grouped = self.data.groupby(\"Sentences\").apply(agg_func)\n",
        "        self.sentences = [s for s in self.grouped]\n",
        "    \n",
        "    def get_next(self):\n",
        "        \"\"\"Return one sentence\"\"\"\n",
        "        try:\n",
        "            s = self.grouped[\"Sentence: {}\".format(self.n_sent)]\n",
        "            self.n_sent += 1\n",
        "            return s\n",
        "        except:\n",
        "            return None\n",
        "\n",
        "getter = SentenceGetter(data)\n",
        "sent = getter.get_next()\n",
        "print('This is what a sentence looks like:')\n",
        "print(sent)\n",
        "sentences = getter.sentences\n",
        "\n"
      ]
    },
    {
      "cell_type": "code",
      "execution_count": null,
      "metadata": {
        "colab": {
          "base_uri": "https://localhost:8080/"
        },
        "id": "-XvIhPxKpBgh",
        "outputId": "a1736e20-187e-41aa-d37b-6c55e288ba85"
      },
      "outputs": [
        {
          "name": "stdout",
          "output_type": "stream",
          "text": [
            "Raw Sample:  door openings between a private garage and the dwelling unit shall be equipped with steel doors not less than 3499mm thick\n",
            "Raw Label:  B-S I-S O O B-S I-S O O B-S I-S O O O O B-S I-S B-CR I-CR I-CR B-QU B-A\n",
            "After processing, sample: [1076 1186 1146  620  877 1141  708  626  502  585 1441  481  758  899\n",
            "  326  299 1200 1009  808  959   32    0    0    0    0    0    0    0\n",
            "    0    0    0    0    0    0    0    0    0    0    0    0    0    0\n",
            "    0    0    0    0    0    0    0    0    0    0    0    0    0    0\n",
            "    0    0    0    0    0    0    0    0    0    0    0    0    0    0\n",
            "    0    0    0    0    0]\n",
            "After processing, labels: [[0. 0. 1. 0. 0. 0. 0. 0. 0. 0. 0. 0.]\n",
            " [0. 0. 0. 0. 0. 0. 0. 0. 0. 1. 0. 0.]\n",
            " [0. 0. 0. 0. 0. 0. 0. 1. 0. 0. 0. 0.]\n",
            " [0. 0. 0. 0. 0. 0. 0. 1. 0. 0. 0. 0.]\n",
            " [0. 0. 1. 0. 0. 0. 0. 0. 0. 0. 0. 0.]\n",
            " [0. 0. 0. 0. 0. 0. 0. 0. 0. 1. 0. 0.]\n",
            " [0. 0. 0. 0. 0. 0. 0. 1. 0. 0. 0. 0.]\n",
            " [0. 0. 0. 0. 0. 0. 0. 1. 0. 0. 0. 0.]\n",
            " [0. 0. 1. 0. 0. 0. 0. 0. 0. 0. 0. 0.]\n",
            " [0. 0. 0. 0. 0. 0. 0. 0. 0. 1. 0. 0.]\n",
            " [0. 0. 0. 0. 0. 0. 0. 1. 0. 0. 0. 0.]\n",
            " [0. 0. 0. 0. 0. 0. 0. 1. 0. 0. 0. 0.]\n",
            " [0. 0. 0. 0. 0. 0. 0. 1. 0. 0. 0. 0.]\n",
            " [0. 0. 0. 0. 0. 0. 0. 1. 0. 0. 0. 0.]\n",
            " [0. 0. 1. 0. 0. 0. 0. 0. 0. 0. 0. 0.]\n",
            " [0. 0. 0. 0. 0. 0. 0. 0. 0. 1. 0. 0.]\n",
            " [0. 0. 0. 1. 0. 0. 0. 0. 0. 0. 0. 0.]\n",
            " [0. 0. 0. 0. 0. 0. 1. 0. 0. 0. 0. 0.]\n",
            " [0. 0. 0. 0. 0. 0. 1. 0. 0. 0. 0. 0.]\n",
            " [0. 0. 0. 0. 0. 0. 0. 0. 0. 0. 1. 0.]\n",
            " [0. 1. 0. 0. 0. 0. 0. 0. 0. 0. 0. 0.]\n",
            " [1. 0. 0. 0. 0. 0. 0. 0. 0. 0. 0. 0.]\n",
            " [1. 0. 0. 0. 0. 0. 0. 0. 0. 0. 0. 0.]\n",
            " [1. 0. 0. 0. 0. 0. 0. 0. 0. 0. 0. 0.]\n",
            " [1. 0. 0. 0. 0. 0. 0. 0. 0. 0. 0. 0.]\n",
            " [1. 0. 0. 0. 0. 0. 0. 0. 0. 0. 0. 0.]\n",
            " [1. 0. 0. 0. 0. 0. 0. 0. 0. 0. 0. 0.]\n",
            " [1. 0. 0. 0. 0. 0. 0. 0. 0. 0. 0. 0.]\n",
            " [1. 0. 0. 0. 0. 0. 0. 0. 0. 0. 0. 0.]\n",
            " [1. 0. 0. 0. 0. 0. 0. 0. 0. 0. 0. 0.]\n",
            " [1. 0. 0. 0. 0. 0. 0. 0. 0. 0. 0. 0.]\n",
            " [1. 0. 0. 0. 0. 0. 0. 0. 0. 0. 0. 0.]\n",
            " [1. 0. 0. 0. 0. 0. 0. 0. 0. 0. 0. 0.]\n",
            " [1. 0. 0. 0. 0. 0. 0. 0. 0. 0. 0. 0.]\n",
            " [1. 0. 0. 0. 0. 0. 0. 0. 0. 0. 0. 0.]\n",
            " [1. 0. 0. 0. 0. 0. 0. 0. 0. 0. 0. 0.]\n",
            " [1. 0. 0. 0. 0. 0. 0. 0. 0. 0. 0. 0.]\n",
            " [1. 0. 0. 0. 0. 0. 0. 0. 0. 0. 0. 0.]\n",
            " [1. 0. 0. 0. 0. 0. 0. 0. 0. 0. 0. 0.]\n",
            " [1. 0. 0. 0. 0. 0. 0. 0. 0. 0. 0. 0.]\n",
            " [1. 0. 0. 0. 0. 0. 0. 0. 0. 0. 0. 0.]\n",
            " [1. 0. 0. 0. 0. 0. 0. 0. 0. 0. 0. 0.]\n",
            " [1. 0. 0. 0. 0. 0. 0. 0. 0. 0. 0. 0.]\n",
            " [1. 0. 0. 0. 0. 0. 0. 0. 0. 0. 0. 0.]\n",
            " [1. 0. 0. 0. 0. 0. 0. 0. 0. 0. 0. 0.]\n",
            " [1. 0. 0. 0. 0. 0. 0. 0. 0. 0. 0. 0.]\n",
            " [1. 0. 0. 0. 0. 0. 0. 0. 0. 0. 0. 0.]\n",
            " [1. 0. 0. 0. 0. 0. 0. 0. 0. 0. 0. 0.]\n",
            " [1. 0. 0. 0. 0. 0. 0. 0. 0. 0. 0. 0.]\n",
            " [1. 0. 0. 0. 0. 0. 0. 0. 0. 0. 0. 0.]\n",
            " [1. 0. 0. 0. 0. 0. 0. 0. 0. 0. 0. 0.]\n",
            " [1. 0. 0. 0. 0. 0. 0. 0. 0. 0. 0. 0.]\n",
            " [1. 0. 0. 0. 0. 0. 0. 0. 0. 0. 0. 0.]\n",
            " [1. 0. 0. 0. 0. 0. 0. 0. 0. 0. 0. 0.]\n",
            " [1. 0. 0. 0. 0. 0. 0. 0. 0. 0. 0. 0.]\n",
            " [1. 0. 0. 0. 0. 0. 0. 0. 0. 0. 0. 0.]\n",
            " [1. 0. 0. 0. 0. 0. 0. 0. 0. 0. 0. 0.]\n",
            " [1. 0. 0. 0. 0. 0. 0. 0. 0. 0. 0. 0.]\n",
            " [1. 0. 0. 0. 0. 0. 0. 0. 0. 0. 0. 0.]\n",
            " [1. 0. 0. 0. 0. 0. 0. 0. 0. 0. 0. 0.]\n",
            " [1. 0. 0. 0. 0. 0. 0. 0. 0. 0. 0. 0.]\n",
            " [1. 0. 0. 0. 0. 0. 0. 0. 0. 0. 0. 0.]\n",
            " [1. 0. 0. 0. 0. 0. 0. 0. 0. 0. 0. 0.]\n",
            " [1. 0. 0. 0. 0. 0. 0. 0. 0. 0. 0. 0.]\n",
            " [1. 0. 0. 0. 0. 0. 0. 0. 0. 0. 0. 0.]\n",
            " [1. 0. 0. 0. 0. 0. 0. 0. 0. 0. 0. 0.]\n",
            " [1. 0. 0. 0. 0. 0. 0. 0. 0. 0. 0. 0.]\n",
            " [1. 0. 0. 0. 0. 0. 0. 0. 0. 0. 0. 0.]\n",
            " [1. 0. 0. 0. 0. 0. 0. 0. 0. 0. 0. 0.]\n",
            " [1. 0. 0. 0. 0. 0. 0. 0. 0. 0. 0. 0.]\n",
            " [1. 0. 0. 0. 0. 0. 0. 0. 0. 0. 0. 0.]\n",
            " [1. 0. 0. 0. 0. 0. 0. 0. 0. 0. 0. 0.]\n",
            " [1. 0. 0. 0. 0. 0. 0. 0. 0. 0. 0. 0.]\n",
            " [1. 0. 0. 0. 0. 0. 0. 0. 0. 0. 0. 0.]\n",
            " [1. 0. 0. 0. 0. 0. 0. 0. 0. 0. 0. 0.]]\n"
          ]
        }
      ],
      "source": [
        "word2idx = {w: i + 2 for i, w in enumerate(words)}\n",
        "word2idx[\"UNK\"] = 1 # Unknown words\n",
        "word2idx[\"PAD\"] = 0 # Padding\n",
        "# Vocabulary Key:token_index -> Value:word\n",
        "idx2word = {i: w for w, i in word2idx.items()}\n",
        "# Vocabulary Key:Label/Tag -> Value:tag_index\n",
        "# The first entry is reserved for PAD\n",
        "tag2idx = {t: i+1 for i, t in enumerate(tags)}\n",
        "tag2idx[\"PAD\"] = 0\n",
        "# Vocabulary Key:tag_index -> Value:Label/Tag\n",
        "idx2tag = {i: w for w, i in tag2idx.items()}\n",
        "from keras_preprocessing.sequence import pad_sequences# Convert each sentence from list of Token to list of word_index\n",
        "X = [[word2idx[w[0]] for w in s] for s in sentences]\n",
        "# Padding each sentence to have the same lenght\n",
        "X = pad_sequences(maxlen=MAX_LEN, sequences=X, padding=\"post\", value=word2idx[\"PAD\"])\n",
        "# Convert Tag/Label to tag_index\n",
        "y = [[tag2idx[w[1]] for w in s] for s in sentences]\n",
        "# Padding each sentence to have the same lenght\n",
        "y = pad_sequences(maxlen=MAX_LEN, sequences=y, padding=\"post\", value=tag2idx[\"PAD\"])\n",
        "from keras.utils import to_categorical\n",
        "# One-Hot encode\n",
        "y = [to_categorical(i, num_classes=n_tags+1) for i in y]  # n_tags+1(PAD)\n",
        "from sklearn.model_selection import train_test_split\n",
        "X_tr, X_te, y_tr, y_te = train_test_split(X, y, test_size=0.1)\n",
        "X_tr.shape, X_te.shape, np.array(y_tr).shape, np.array(y_te).shape\n",
        "print('Raw Sample: ', ' '.join([w[0] for w in sentences[0]]))\n",
        "print('Raw Label: ', ' '.join([w[1] for w in sentences[0]]))\n",
        "print('After processing, sample:', X[0])\n",
        "print('After processing, labels:', y[0])\n"
      ]
    },
    {
      "cell_type": "code",
      "execution_count": null,
      "metadata": {
        "colab": {
          "base_uri": "https://localhost:8080/",
          "height": 295
        },
        "id": "lgKWQIHp_4VV",
        "outputId": "ed1e0578-0409-4a5a-8999-0b9ae197ad02"
      },
      "outputs": [
        {
          "data": {
            "image/png": "[encoded data removed]",
            "text/plain": [
              "<Figure size 432x288 with 1 Axes>"
            ]
          },
          "metadata": {},
          "output_type": "display_data"
        }
      ],
      "source": [
        "# Get all the sentences\n",
        "sentences = getter.sentences\n",
        "\n",
        "# Plot sentence by lenght\n",
        "plt.hist([len(s) for s in sentences], bins=50)\n",
        "plt.title('Token per sentence')\n",
        "plt.xlabel('Len (number of token)')\n",
        "plt.ylabel('# Sentences')\n",
        "plt.show()"
      ]
    },
    {
      "cell_type": "code",
      "execution_count": null,
      "metadata": {
        "id": "olvhfJiZATsV"
      },
      "outputs": [],
      "source": []
    },
    {
      "cell_type": "code",
      "execution_count": null,
      "metadata": {
        "colab": {
          "base_uri": "https://localhost:8080/"
        },
        "id": "Gt9NIcHh81aq",
        "outputId": "d7d3f211-218d-44ad-def4-6b3974b7c38d"
      },
      "outputs": [
        {
          "name": "stderr",
          "output_type": "stream",
          "text": [
            "/usr/local/lib/python3.7/dist-packages/keras_contrib/layers/crf.py:346: UserWarning: CRF.loss_function is deprecated and it might be removed in the future. Please use losses.crf_loss instead.\n",
            "  warnings.warn('CRF.loss_function is deprecated '\n",
            "/usr/local/lib/python3.7/dist-packages/keras_contrib/layers/crf.py:353: UserWarning: CRF.accuracy is deprecated and it might be removed in the future. Please use metrics.crf_accuracy\n",
            "  warnings.warn('CRF.accuracy is deprecated and it '\n"
          ]
        },
        {
          "name": "stdout",
          "output_type": "stream",
          "text": [
            "_________________________________________________________________\n",
            "Layer (type)                 Output Shape              Param #   \n",
            "=================================================================\n",
            "input_4 (InputLayer)         (None, 75)                0         \n",
            "_________________________________________________________________\n",
            "embedding_4 (Embedding)      (None, 75, 40)            61560     \n",
            "_________________________________________________________________\n",
            "bidirectional_4 (Bidirection (None, 75, 100)           36400     \n",
            "_________________________________________________________________\n",
            "time_distributed_4 (TimeDist (None, 75, 50)            5050      \n",
            "_________________________________________________________________\n",
            "crf_4 (CRF)                  (None, 75, 12)            780       \n",
            "=================================================================\n",
            "Total params: 103,790\n",
            "Trainable params: 103,790\n",
            "Non-trainable params: 0\n",
            "_________________________________________________________________\n"
          ]
        }
      ],
      "source": [
        "from keras.models import Model, Input\n",
        "from keras.layers import LSTM, Embedding, Dense, TimeDistributed, Dropout, Bidirectional\n",
        "from keras_contrib.layers import CRF\n",
        "# Model definition\n",
        "input = Input(shape=(MAX_LEN,))\n",
        "model = Embedding(input_dim=n_words+2, output_dim=EMBEDDING, # n_words + 2 (PAD & UNK)\n",
        "                  input_length=MAX_LEN, mask_zero=True)(input)  # default: 20-dim embedding\n",
        "model = Bidirectional(LSTM(units=50, return_sequences=True,\n",
        "                           recurrent_dropout=0.1))(model)  # variational biLSTM\n",
        "model = TimeDistributed(Dense(50, activation=\"relu\"))(model)  # a dense layer as suggested by neuralNer\n",
        "crf = CRF(n_tags+1)  # CRF layer, n_tags+1(PAD)\n",
        "out = crf(model)  # output\n",
        "model = Model(input, out)\n",
        "model.compile(optimizer=\"rmsprop\", loss=crf.loss_function, metrics=[crf.accuracy])\n",
        "model.summary()\n"
      ]
    },
    {
      "cell_type": "markdown",
      "metadata": {
        "id": "LWKI2sndtN0R"
      },
      "source": [
        "# New Section"
      ]
    },
    {
      "cell_type": "code",
      "execution_count": null,
      "metadata": {
        "colab": {
          "base_uri": "https://localhost:8080/"
        },
        "id": "o_zdyaniuYWk",
        "outputId": "32853fce-e276-402a-d80b-e44cbe3c1a68"
      },
      "outputs": [
        {
          "name": "stdout",
          "output_type": "stream",
          "text": [
            "Train on 323 samples, validate on 36 samples\n",
            "Epoch 1/20\n",
            " - 4s - loss: 8.3293 - crf_viterbi_accuracy: 0.1708 - val_loss: 7.3601 - val_crf_viterbi_accuracy: 0.4241\n",
            "Epoch 2/20\n",
            " - 2s - loss: 7.7096 - crf_viterbi_accuracy: 0.4097 - val_loss: 7.2175 - val_crf_viterbi_accuracy: 0.4491\n",
            "Epoch 3/20\n",
            " - 2s - loss: 7.6255 - crf_viterbi_accuracy: 0.4262 - val_loss: 7.1395 - val_crf_viterbi_accuracy: 0.4335\n",
            "Epoch 4/20\n",
            " - 2s - loss: 7.5867 - crf_viterbi_accuracy: 0.4414 - val_loss: 7.0925 - val_crf_viterbi_accuracy: 0.4616\n",
            "Epoch 5/20\n",
            " - 2s - loss: 7.5414 - crf_viterbi_accuracy: 0.4557 - val_loss: 7.0635 - val_crf_viterbi_accuracy: 0.3697\n",
            "Epoch 6/20\n",
            " - 2s - loss: 7.4962 - crf_viterbi_accuracy: 0.4630 - val_loss: 7.0136 - val_crf_viterbi_accuracy: 0.4926\n",
            "Epoch 7/20\n",
            " - 2s - loss: 7.4283 - crf_viterbi_accuracy: 0.4941 - val_loss: 6.9149 - val_crf_viterbi_accuracy: 0.4962\n",
            "Epoch 8/20\n",
            " - 2s - loss: 7.3445 - crf_viterbi_accuracy: 0.5272 - val_loss: 6.8173 - val_crf_viterbi_accuracy: 0.5340\n",
            "Epoch 9/20\n",
            " - 2s - loss: 7.2449 - crf_viterbi_accuracy: 0.5653 - val_loss: 6.7469 - val_crf_viterbi_accuracy: 0.5619\n",
            "Epoch 10/20\n",
            " - 2s - loss: 7.1434 - crf_viterbi_accuracy: 0.5948 - val_loss: 6.6758 - val_crf_viterbi_accuracy: 0.5521\n",
            "Epoch 11/20\n",
            " - 2s - loss: 7.0528 - crf_viterbi_accuracy: 0.6233 - val_loss: 6.5653 - val_crf_viterbi_accuracy: 0.6173\n",
            "Epoch 12/20\n",
            " - 2s - loss: 6.9704 - crf_viterbi_accuracy: 0.6497 - val_loss: 6.5407 - val_crf_viterbi_accuracy: 0.6224\n",
            "Epoch 13/20\n",
            " - 2s - loss: 6.9012 - crf_viterbi_accuracy: 0.6625 - val_loss: 6.4767 - val_crf_viterbi_accuracy: 0.6235\n",
            "Epoch 14/20\n",
            " - 2s - loss: 6.8456 - crf_viterbi_accuracy: 0.6803 - val_loss: 6.4556 - val_crf_viterbi_accuracy: 0.6506\n",
            "Epoch 15/20\n",
            " - 2s - loss: 6.7875 - crf_viterbi_accuracy: 0.6950 - val_loss: 6.4260 - val_crf_viterbi_accuracy: 0.6191\n",
            "Epoch 16/20\n",
            " - 2s - loss: 6.7322 - crf_viterbi_accuracy: 0.7239 - val_loss: 6.3628 - val_crf_viterbi_accuracy: 0.6768\n",
            "Epoch 17/20\n",
            " - 2s - loss: 6.6905 - crf_viterbi_accuracy: 0.7419 - val_loss: 6.3396 - val_crf_viterbi_accuracy: 0.6771\n",
            "Epoch 18/20\n",
            " - 2s - loss: 6.6414 - crf_viterbi_accuracy: 0.7578 - val_loss: 6.2680 - val_crf_viterbi_accuracy: 0.7336\n",
            "Epoch 19/20\n",
            " - 2s - loss: 6.6004 - crf_viterbi_accuracy: 0.7734 - val_loss: 6.2635 - val_crf_viterbi_accuracy: 0.7272\n",
            "Epoch 20/20\n",
            " - 2s - loss: 6.5614 - crf_viterbi_accuracy: 0.7834 - val_loss: 6.2289 - val_crf_viterbi_accuracy: 0.7122\n"
          ]
        }
      ],
      "source": [
        "history = model.fit(X_tr, np.array(y_tr), batch_size=BATCH_SIZE, epochs=EPOCHS, validation_split=0.1, verbose=2)\n"
      ]
    },
    {
      "cell_type": "code",
      "execution_count": null,
      "metadata": {
        "colab": {
          "base_uri": "https://localhost:8080/"
        },
        "id": "4Ht2FNJQL2XV",
        "outputId": "1ebc43b7-d479-431b-8d05-7d9cb3af39a5"
      },
      "outputs": [
        {
          "data": {
            "text/plain": [
              "32"
            ]
          },
          "execution_count": 37,
          "metadata": {},
          "output_type": "execute_result"
        }
      ],
      "source": [
        "BATCH_SIZE"
      ]
    },
    {
      "cell_type": "code",
      "execution_count": null,
      "metadata": {
        "colab": {
          "base_uri": "https://localhost:8080/",
          "height": 573
        },
        "id": "ZQugWELZia4i",
        "outputId": "2c5da259-e513-43cb-8b95-007eee5f9927"
      },
      "outputs": [
        {
          "data": {
            "image/png": "[encoded data removed]",
            "text/plain": [
              "<Figure size 432x288 with 1 Axes>"
            ]
          },
          "metadata": {},
          "output_type": "display_data"
        },
        {
          "data": {
            "image/png": "[encoded data removed]",
            "text/plain": [
              "<Figure size 432x288 with 1 Axes>"
            ]
          },
          "metadata": {},
          "output_type": "display_data"
        }
      ],
      "source": [
        "plt.plot(history.history['crf_viterbi_accuracy'])\n",
        "plt.plot(history.history['val_crf_viterbi_accuracy'])\n",
        "plt.title('Model accuracy')\n",
        "plt.ylabel('Accuracy')\n",
        "plt.xlabel('Epoch')\n",
        "plt.legend(['Train', 'Test'])\n",
        "plt.show()\n",
        "\n",
        "# Plot training & validation loss values\n",
        "plt.plot(history.history['loss'])\n",
        "plt.plot(history.history['val_loss'])\n",
        "plt.title('Model loss')\n",
        "plt.ylabel('Loss')\n",
        "plt.xlabel('Epoch')\n",
        "plt.legend(['Train', 'Test'], loc='upper left')\n",
        "plt.show()"
      ]
    },
    {
      "cell_type": "code",
      "execution_count": null,
      "metadata": {
        "colab": {
          "base_uri": "https://localhost:8080/",
          "height": 621
        },
        "id": "hV88Xlu3mzZh",
        "outputId": "c794f766-88ba-43e7-b51f-aa76cc192e97"
      },
      "outputs": [
        {
          "name": "stdout",
          "output_type": "stream",
          "text": [
            "40/40 [==============================] - 0s 2ms/step\n",
            "              precision    recall  f1-score   support\n",
            "\n",
            "           A       0.93      0.64      0.76        22\n",
            "          CR       0.69      0.71      0.70        34\n",
            "          QU       0.90      0.87      0.88        53\n",
            "         Ref       0.77      0.88      0.82        26\n",
            "           S       0.81      0.86      0.83       190\n",
            "\n",
            "   micro avg       0.81      0.83      0.82       325\n",
            "   macro avg       0.82      0.79      0.80       325\n",
            "weighted avg       0.82      0.83      0.82       325\n",
            "\n"
          ]
        },
        {
          "ename": "ValueError",
          "evalue": "ignored",
          "output_type": "error",
          "traceback": [
            "\u001b[0;31m---------------------------------------------------------------------------\u001b[0m",
            "\u001b[0;31mValueError\u001b[0m                                Traceback (most recent call last)",
            "\u001b[0;32m<ipython-input-22-2cba6004c519>\u001b[0m in \u001b[0;36m<module>\u001b[0;34m\u001b[0m\n\u001b[1;32m     30\u001b[0m \u001b[0;34m\u001b[0m\u001b[0m\n\u001b[1;32m     31\u001b[0m \u001b[0;32mfrom\u001b[0m \u001b[0msklearn\u001b[0m\u001b[0;34m.\u001b[0m\u001b[0mmetrics\u001b[0m \u001b[0;32mimport\u001b[0m \u001b[0mclassification_report\u001b[0m\u001b[0;34m\u001b[0m\u001b[0;34m\u001b[0m\u001b[0m\n\u001b[0;32m---> 32\u001b[0;31m \u001b[0mprint\u001b[0m\u001b[0;34m(\u001b[0m\u001b[0mclassification_report\u001b[0m\u001b[0;34m(\u001b[0m\u001b[0mtest_labels\u001b[0m\u001b[0;34m,\u001b[0m \u001b[0mpred_labels\u001b[0m\u001b[0;34m)\u001b[0m\u001b[0;34m)\u001b[0m\u001b[0;34m\u001b[0m\u001b[0;34m\u001b[0m\u001b[0m\n\u001b[0m",
            "\u001b[0;32m/usr/local/lib/python3.7/dist-packages/sklearn/metrics/_classification.py\u001b[0m in \u001b[0;36mclassification_report\u001b[0;34m(y_true, y_pred, labels, target_names, sample_weight, digits, output_dict, zero_division)\u001b[0m\n\u001b[1;32m   2108\u001b[0m     \"\"\"\n\u001b[1;32m   2109\u001b[0m \u001b[0;34m\u001b[0m\u001b[0m\n\u001b[0;32m-> 2110\u001b[0;31m     \u001b[0my_type\u001b[0m\u001b[0;34m,\u001b[0m \u001b[0my_true\u001b[0m\u001b[0;34m,\u001b[0m \u001b[0my_pred\u001b[0m \u001b[0;34m=\u001b[0m \u001b[0m_check_targets\u001b[0m\u001b[0;34m(\u001b[0m\u001b[0my_true\u001b[0m\u001b[0;34m,\u001b[0m \u001b[0my_pred\u001b[0m\u001b[0;34m)\u001b[0m\u001b[0;34m\u001b[0m\u001b[0;34m\u001b[0m\u001b[0m\n\u001b[0m\u001b[1;32m   2111\u001b[0m \u001b[0;34m\u001b[0m\u001b[0m\n\u001b[1;32m   2112\u001b[0m     \u001b[0;32mif\u001b[0m \u001b[0mlabels\u001b[0m \u001b[0;32mis\u001b[0m \u001b[0;32mNone\u001b[0m\u001b[0;34m:\u001b[0m\u001b[0;34m\u001b[0m\u001b[0;34m\u001b[0m\u001b[0m\n",
            "\u001b[0;32m/usr/local/lib/python3.7/dist-packages/sklearn/metrics/_classification.py\u001b[0m in \u001b[0;36m_check_targets\u001b[0;34m(y_true, y_pred)\u001b[0m\n\u001b[1;32m     83\u001b[0m     \"\"\"\n\u001b[1;32m     84\u001b[0m     \u001b[0mcheck_consistent_length\u001b[0m\u001b[0;34m(\u001b[0m\u001b[0my_true\u001b[0m\u001b[0;34m,\u001b[0m \u001b[0my_pred\u001b[0m\u001b[0;34m)\u001b[0m\u001b[0;34m\u001b[0m\u001b[0;34m\u001b[0m\u001b[0m\n\u001b[0;32m---> 85\u001b[0;31m     \u001b[0mtype_true\u001b[0m \u001b[0;34m=\u001b[0m \u001b[0mtype_of_target\u001b[0m\u001b[0;34m(\u001b[0m\u001b[0my_true\u001b[0m\u001b[0;34m)\u001b[0m\u001b[0;34m\u001b[0m\u001b[0;34m\u001b[0m\u001b[0m\n\u001b[0m\u001b[1;32m     86\u001b[0m     \u001b[0mtype_pred\u001b[0m \u001b[0;34m=\u001b[0m \u001b[0mtype_of_target\u001b[0m\u001b[0;34m(\u001b[0m\u001b[0my_pred\u001b[0m\u001b[0;34m)\u001b[0m\u001b[0;34m\u001b[0m\u001b[0;34m\u001b[0m\u001b[0m\n\u001b[1;32m     87\u001b[0m \u001b[0;34m\u001b[0m\u001b[0m\n",
            "\u001b[0;32m/usr/local/lib/python3.7/dist-packages/sklearn/utils/multiclass.py\u001b[0m in \u001b[0;36mtype_of_target\u001b[0;34m(y)\u001b[0m\n\u001b[1;32m    298\u001b[0m         ):\n\u001b[1;32m    299\u001b[0m             raise ValueError(\n\u001b[0;32m--> 300\u001b[0;31m                 \u001b[0;34m\"You appear to be using a legacy multi-label data\"\u001b[0m\u001b[0;34m\u001b[0m\u001b[0;34m\u001b[0m\u001b[0m\n\u001b[0m\u001b[1;32m    301\u001b[0m                 \u001b[0;34m\" representation. Sequence of sequences are no\"\u001b[0m\u001b[0;34m\u001b[0m\u001b[0;34m\u001b[0m\u001b[0m\n\u001b[1;32m    302\u001b[0m                 \u001b[0;34m\" longer supported; use a binary array or sparse\"\u001b[0m\u001b[0;34m\u001b[0m\u001b[0;34m\u001b[0m\u001b[0m\n",
            "\u001b[0;31mValueError\u001b[0m: You appear to be using a legacy multi-label data representation. Sequence of sequences are no longer supported; use a binary array or sparse matrix instead - the MultiLabelBinarizer transformer can convert to this format."
          ]
        }
      ],
      "source": [
        "\n",
        "from seqeval.metrics import precision_score, recall_score, f1_score, classification_report\n",
        "test_pred = model.predict(X_te, verbose=1)\n",
        "\n",
        "idx2tag = {i: w for w, i in tag2idx.items()}\n",
        "\n",
        "def pred2label(pred):\n",
        "    out = []\n",
        "    for pred_i in pred:\n",
        "        out_i = []\n",
        "        for p in pred_i:\n",
        "            p_i = np.argmax(p)\n",
        "            if idx2tag[p_i]==\"PAD\":\n",
        "              break\n",
        "            out_i.append(idx2tag[p_i])\n",
        "        out.append(out_i)\n",
        "    return out\n",
        "    \n",
        "pred_labels = pred2label(test_pred)\n",
        "test_labels = pred2label(y_te)\n",
        "\n",
        "for i in range(len(test_labels)):\n",
        "  if len(test_labels[i]) != len(pred_labels[i]):\n",
        "    while len(test_labels[i]) != len(pred_labels[i]):\n",
        "      pred_labels[i].append('O')\n",
        "\n",
        "\n",
        "from seqeval.metrics import classification_report\n",
        "\n",
        "print(classification_report(test_labels, pred_labels))\n",
        "\n",
        "from sklearn.metrics import classification_report\n",
        "print(classification_report(test_labels, pred_labels))"
      ]
    },
    {
      "cell_type": "code",
      "execution_count": null,
      "metadata": {
        "colab": {
          "background_save": true,
          "base_uri": "https://localhost:8080/"
        },
        "id": "iSM2P-BtpRdY",
        "outputId": "4f49d451-b513-4aad-93c2-f98207a36076"
      },
      "outputs": [
        {
          "name": "stdout",
          "output_type": "stream",
          "text": [
            "['O', 'B-CR', 'B-S', 'B-QU', 'O', 'B-S', 'I-S', 'I-S', 'O', 'O', 'O', 'B-S', 'B-S', 'O', 'O', 'O', 'O', 'B-S', 'I-S', 'O', 'B-S', 'O', 'O', 'O', 'B-S', 'O', 'B-S', 'I-S', 'O', 'O', 'O', 'O', 'O', 'B-S', 'O', 'B-S', 'O', 'O', 'B-S', 'B-S', 'O', 'O', 'B-S', 'O', 'O', 'O', 'O', 'B-S', 'O', 'B-QU', 'I-S', 'O', 'O', 'B-S', 'O', 'B-S', 'O', 'B-S', 'O', 'O', 'B-S', 'O', 'B-S', 'B-S', 'O', 'O', 'B-S', 'O', 'B-S', 'O', 'O', 'B-S', 'I-Ref', 'B-S', 'B-S', 'I-Ref', 'B-CR', 'B-S', 'B-QU', 'O', 'O', 'O', 'O', 'B-S', 'B-S', 'O', 'O', 'B-S', 'B-S', 'O', 'O', 'O', 'B-S', 'O', 'B-S', 'O', 'O', 'B-S', 'I-S', 'O', 'O', 'B-S', 'O', 'O', 'O', 'B-S', 'O', 'B-S', 'O', 'O', 'O', 'B-S', 'I-S', 'O', 'I-Ref', 'B-S', 'O', 'O', 'O', 'O', 'O', 'B-S', 'I-S', 'I-S', 'I-S', 'I-S', 'O', 'B-S', 'I-S', 'O', 'O', 'B-S', 'O', 'B-QU', 'B-S', 'B-S', 'O', 'B-S', 'B-S', 'O', 'O', 'B-S', 'I-CR', 'B-QU', 'O', 'B-QU', 'I-CR', 'B-QU', 'O', 'O', 'O', 'O', 'O', 'O', 'B-S', 'O', 'O', 'B-S', 'B-S', 'B-S', 'O', 'O', 'O', 'O', 'B-CR', 'B-QU', 'O', 'B-S', 'O', 'O', 'B-S', 'O', 'B-S', 'I-Ref', 'B-QU', 'O', 'O', 'B-S', 'B-S', 'O', 'O', 'B-S', 'B-S', 'O', 'O', 'B-S', 'B-S', 'O', 'O', 'O', 'O', 'B-S', 'I-S', 'I-S', 'I-Ref', 'I-Ref', 'I-Ref', 'I-Ref', 'O', 'B-S', 'O', 'O', 'B-S', 'O', 'B-S', 'B-S', 'O', 'O', 'O', 'O', 'O', 'B-S', 'B-Ref', 'I-Ref', 'B-CR', 'I-CR', 'B-QU', 'O', 'O', 'B-S', 'O', 'O', 'B-S', 'B-S', 'O', 'B-QU', 'B-S', 'O', 'B-S', 'O', 'O', 'O', 'O', 'B-S', 'O', 'O', 'B-S', 'O', 'B-S', 'B-S', 'O', 'O', 'O', 'O', 'B-S', 'B-S', 'I-S', 'I-S', 'I-S', 'O', 'B-S', 'B-S', 'O', 'O', 'O', 'B-S', 'I-S', 'I-S', 'B-S', 'O', 'O', 'O', 'B-S', 'I-S', 'I-S', 'O', 'O', 'B-S', 'I-S', 'O', 'O', 'B-S', 'I-S', 'O', 'O', 'O', 'O', 'B-S', 'O', 'B-S', 'O', 'B-QU', 'B-QU', 'O', 'O', 'O', 'O', 'O', 'O', 'B-S', 'O', 'B-S', 'I-S', 'O', 'O', 'B-S', 'O', 'B-S', 'B-S', 'B-S', 'O', 'O', 'O', 'O', 'B-S', 'I-S', 'O', 'O', 'O', 'O', 'O', 'B-S', 'O', 'O', 'B-S', 'O', 'B-S', 'O', 'O', 'B-S', 'O', 'I-S', 'I-S', 'I-S', 'I-Ref', 'I-Ref', 'I-Ref', 'I-Ref', 'I-Ref', 'I-Ref', 'I-Ref', 'O', 'B-S', 'O', 'O', 'B-S', 'O', 'O', 'B-S', 'I-S', 'I-S', 'O', 'O', 'B-S', 'B-S', 'O', 'B-S', 'B-S', 'O', 'B-S', 'I-S', 'O', 'B-S', 'O', 'O', 'O', 'B-S', 'O', 'O', 'B-S', 'O', 'B-S', 'O', 'I-Ref', 'I-Ref', 'B-S', 'B-S', 'I-S', 'I-S', 'O', 'B-S', 'O', 'O', 'O', 'O', 'B-S', 'I-S', 'O', 'O', 'B-S', 'O', 'O', 'B-S', 'O', 'I-Ref', 'B-QU', 'O', 'O', 'O', 'B-S', 'I-Ref', 'O', 'I-Ref', 'I-Ref', 'I-Ref', 'I-Ref', 'I-S', 'O', 'O', 'O', 'O', 'B-S', 'O', 'B-S', 'O', 'B-S', 'O', 'B-QU', 'O', 'O', 'B-S', 'B-S', 'B-S', 'B-S', 'O', 'O', 'B-S', 'I-S', 'O', 'O', 'B-S', 'I-CR', 'B-QU', 'O', 'O', 'B-S', 'O', 'O', 'B-S', 'O', 'B-S', 'O', 'O', 'O', 'B-S', 'O', 'O', 'B-S', 'B-S', 'O', 'O', 'B-S', 'B-S', 'O', 'O', 'O', 'B-S', 'O', 'O', 'B-S', 'I-S', 'O', 'O', 'O', 'B-S', 'O', 'B-S', 'O', 'B-S', 'B-S', 'I-Ref', 'I-Ref', 'O', 'B-S', 'O', 'B-S', 'B-S', 'O', 'O', 'B-S', 'B-S', 'I-Ref', 'I-S', 'O', 'O', 'O', 'B-S', 'B-S', 'B-S', 'O', 'O', 'O', 'O', 'B-S', 'O', 'O', 'B-S', 'O', 'O', 'B-S', 'I-S', 'I-S', 'O', 'O', 'O', 'O', 'O', 'B-S', 'O', 'O', 'O', 'B-S', 'I-CR', 'B-QU', 'I-S', 'O', 'O', 'B-S', 'O', 'O', 'B-S', 'I-S', 'I-S', 'O', 'O', 'B-S', 'B-S', 'B-S', 'O', 'B-S', 'B-S', 'B-QU', 'I-S', 'I-S', 'I-S', 'I-S', 'I-Ref', 'O', 'B-S', 'B-S', 'O', 'O', 'B-S', 'O', 'O', 'B-S', 'O', 'O', 'B-S', 'O', 'B-S', 'O', 'B-S', 'I-Ref', 'I-S', 'O', 'B-S', 'O', 'B-S', 'B-S', 'O', 'B-S', 'B-S', 'O', 'B-S', 'B-S', 'I-Ref', 'B-QU', 'O', 'B-QU', 'O', 'O', 'O', 'O', 'B-S', 'O', 'O', 'B-S', 'I-S', 'O', 'O', 'B-S', 'I-S', 'O', 'O', 'B-S', 'B-S', 'O', 'O', 'B-S', 'B-CR', 'I-CR', 'B-QU', 'B-QU', 'O', 'O', 'B-S', 'I-S', 'O', 'O', 'B-S', 'I-S', 'O', 'B-S', 'O', 'O', 'B-S', 'O', 'B-S', 'B-S', 'O', 'B-S', 'O', 'B-S', 'O', 'O', 'B-S', 'O', 'O', 'B-S', 'B-S', 'O', 'B-S', 'O', 'B-S', 'O', 'O', 'O', 'O', 'B-S', 'O', 'O', 'B-S', 'O', 'B-S', 'B-S', 'B-S', 'B-S', 'O', 'B-QU', 'I-S', 'I-S', 'O', 'O', 'O', 'O', 'B-S', 'O', 'O', 'B-S', 'O', 'B-S', 'I-S', 'I-S', 'O', 'B-S', 'O', 'B-S', 'O', 'O', 'B-S', 'O', 'O', 'B-S', 'I-S', 'I-S', 'O', 'O', 'B-S', 'I-Ref', 'O', 'O', 'O', 'O', 'O', 'O', 'B-S', 'O', 'O', 'O', 'B-S', 'O', 'B-S', 'O', 'B-S', 'I-S', 'O', 'O', 'B-S', 'O', 'O', 'O', 'O', 'B-S', 'B-S', 'O', 'O', 'B-S', 'O', 'B-S', 'O', 'B-S', 'I-S', 'O', 'O', 'B-S', 'O', 'O', 'B-S', 'B-S', 'O', 'O', 'O', 'B-S', 'O', 'B-S', 'I-S', 'O', 'O', 'O', 'O', 'B-S', 'O', 'O', 'O', 'B-S', 'B-S', 'O', 'B-S', 'O', 'O', 'B-QU', 'B-QU', 'O', 'B-S', 'O', 'O', 'O', 'O', 'O', 'O', 'B-S', 'O', 'B-QU', 'I-S', 'I-S', 'O', 'O', 'O', 'O', 'B-S', 'I-S', 'I-S', 'O', 'B-S', 'O', 'O', 'O', 'B-S', 'O', 'O', 'O', 'O', 'O', 'O', 'B-S', 'B-QU', 'I-S', 'O', 'O', 'B-QU', 'I-S', 'O', 'B-S', 'O', 'O', 'B-S', 'O', 'B-QU', 'O', 'O', 'B-S', 'O', 'B-S', 'I-Ref', 'O', 'O', 'B-S', 'B-S', 'I-S', 'O', 'O', 'O', 'O', 'B-S', 'I-S', 'O', 'O', 'O', 'B-S', 'O', 'B-S', 'I-S', 'O', 'B-S', 'I-S', 'O', 'O', 'O', 'O', 'O', 'O', 'B-S', 'O', 'I-Ref', 'I-Ref', 'I-Ref', 'I-Ref', 'O', 'B-S', 'O', 'O', 'B-S', 'I-S', 'B-CR', 'I-CR', 'B-QU', 'I-Ref', 'I-Ref', 'I-Ref', 'I-Ref', 'B-S', 'O', 'B-S', 'B-S', 'O', 'O', 'O', 'O', 'O', 'B-S', 'O', 'B-S', 'O', 'B-S', 'B-QU', 'I-S', 'O', 'O', 'O', 'B-S', 'I-S', 'I-S', 'I-S', 'O', 'B-S', 'O', 'B-S', 'I-Ref', 'I-Ref', 'O', 'B-S', 'O', 'O', 'B-S', 'O', 'O', 'O', 'B-QU', 'I-S', 'I-S', 'O', 'O', 'B-S', 'O', 'O', 'O', 'O', 'B-S', 'O', 'B-S', 'O', 'B-S', 'O', 'O', 'B-S', 'I-S', 'I-S', 'I-S', 'O', 'B-S', 'O', 'B-S', 'O', 'I-S', 'I-S', 'O', 'O', 'O', 'O', 'B-S', 'O', 'B-S', 'O', 'B-S', 'B-S', 'O', 'O', 'B-S', 'B-CR', 'I-CR', 'B-QU', 'B-QU', 'O', 'O', 'B-S', 'I-S', 'O', 'O', 'B-S', 'I-S', 'O', 'O', 'B-QU', 'O', 'I-Ref', 'B-QU', 'O', 'O', 'B-S', 'B-S', 'O', 'B-S', 'I-S', 'I-S', 'O', 'O', 'B-S', 'I-S', 'B-S', 'B-S', 'O', 'B-S', 'B-S', 'B-QU', 'I-S', 'I-S', 'I-S', 'I-S', 'I-Ref']\n",
            "['O', 'B-A', 'B-S', 'B-A', 'O', 'B-S', 'I-S', 'I-S', 'O', 'O', 'O', 'B-QU', 'B-S', 'O', 'O', 'O', 'O', 'B-S', 'I-S', 'O', 'B-S', 'O', 'O', 'O', 'B-S', 'O', 'B-S', 'I-S', 'O', 'O', 'O', 'O', 'O', 'B-S', 'O', 'B-S', 'O', 'O', 'B-S', 'I-S', 'O', 'O', 'B-S', 'O', 'O', 'O', 'O', 'B-QU', 'O', 'B-QU', 'B-A', 'O', 'O', 'B-S', 'O', 'B-QU', 'O', 'B-QU', 'O', 'O', 'B-S', 'O', 'B-S', 'I-S', 'O', 'O', 'B-S', 'O', 'B-S', 'B-CR', 'I-CR', 'I-CR', 'B-QU', 'B-S', 'I-S', 'I-S', 'B-CR', 'B-QU', 'I-QU', 'O', 'O', 'O', 'O', 'B-S', 'I-S', 'O', 'O', 'O', 'B-S', 'I-S', 'O', 'O', 'B-S', 'O', 'B-S', 'I-S', 'I-S', 'I-S', 'I-S', 'O', 'O', 'B-S', 'O', 'O', 'O', 'B-QU', 'O', 'B-QU', 'O', 'O', 'O', 'B-S', 'I-S', 'O', 'B-QU', 'B-S', 'O', 'O', 'O', 'O', 'O', 'B-QU', 'B-S', 'I-S', 'I-S', 'I-S', 'O', 'B-S', 'I-S', 'O', 'O', 'B-QU', 'O', 'B-QU', 'I-S', 'I-S', 'O', 'O', 'B-QU', 'O', 'O', 'B-S', 'B-QU', 'I-QU', 'O', 'B-CR', 'I-CR', 'B-QU', 'O', 'O', 'O', 'O', 'O', 'O', 'B-S', 'O', 'O', 'B-S', 'B-S', 'I-S', 'O', 'O', 'O', 'O', 'B-CR', 'I-CR', 'O', 'B-S', 'O', 'O', 'B-S', 'O', 'B-Ref', 'I-Ref', 'I-Ref', 'O', 'O', 'B-S', 'I-S', 'O', 'O', 'B-S', 'I-S', 'O', 'O', 'B-S', 'I-S', 'O', 'O', 'O', 'O', 'B-S', 'I-S', 'B-CR', 'I-CR', 'I-CR', 'B-QU', 'B-A', 'O', 'B-QU', 'O', 'O', 'B-S', 'O', 'B-S', 'I-S', 'O', 'O', 'O', 'O', 'O', 'O', 'B-Ref', 'I-Ref', 'B-CR', 'I-CR', 'B-QU', 'O', 'O', 'B-S', 'I-S', 'I-S', 'I-S', 'I-S', 'O', 'B-QU', 'B-S', 'O', 'B-S', 'I-S', 'O', 'O', 'O', 'O', 'O', 'B-S', 'I-S', 'O', 'B-S', 'I-S', 'O', 'O', 'O', 'O', 'B-S', 'I-S', 'I-S', 'I-S', 'B-S', 'O', 'O', 'O', 'O', 'O', 'O', 'B-S', 'I-S', 'I-S', 'B-S', 'O', 'O', 'O', 'B-CR', 'O', 'B-QU', 'O', 'O', 'B-S', 'I-S', 'O', 'B-S', 'I-S', 'I-S', 'O', 'O', 'O', 'O', 'B-S', 'O', 'B-S', 'O', 'B-QU', 'I-QU', 'O', 'O', 'O', 'O', 'O', 'O', 'B-S', 'I-S', 'I-S', 'I-S', 'O', 'O', 'B-S', 'O', 'B-S', 'B-S', 'I-S', 'O', 'O', 'O', 'O', 'B-S', 'I-S', 'O', 'O', 'O', 'O', 'O', 'B-QU', 'O', 'O', 'B-S', 'O', 'B-S', 'O', 'O', 'B-S', 'I-S', 'I-S', 'I-S', 'B-Ref', 'I-Ref', 'I-Ref', 'I-Ref', 'I-Ref', 'I-Ref', 'I-Ref', 'I-Ref', 'O', 'B-QU', 'O', 'O', 'B-S', 'O', 'O', 'B-S', 'O', 'B-S', 'O', 'O', 'B-S', 'I-S', 'O', 'B-S', 'I-S', 'I-S', 'B-S', 'I-S', 'O', 'B-S', 'O', 'O', 'O', 'B-S', 'O', 'O', 'O', 'O', 'B-S', 'B-Ref', 'I-Ref', 'I-Ref', 'B-S', 'I-S', 'I-S', 'I-S', 'O', 'B-S', 'O', 'O', 'O', 'O', 'B-S', 'I-S', 'O', 'O', 'B-A', 'O', 'O', 'B-QU', 'O', 'B-QU', 'I-QU', 'O', 'O', 'O', 'B-CR', 'B-A', 'B-Ref', 'I-Ref', 'I-Ref', 'I-Ref', 'I-Ref', 'B-S', 'O', 'O', 'O', 'O', 'B-S', 'O', 'B-S', 'O', 'B-S', 'O', 'B-S', 'O', 'O', 'B-S', 'I-S', 'I-S', 'I-S', 'O', 'O', 'B-S', 'I-S', 'O', 'O', 'B-CR', 'I-CR', 'B-QU', 'O', 'O', 'B-S', 'O', 'O', 'B-S', 'O', 'B-QU', 'O', 'O', 'O', 'O', 'O', 'O', 'B-S', 'I-S', 'O', 'O', 'B-S', 'I-S', 'I-S', 'O', 'O', 'B-S', 'I-S', 'I-S', 'I-S', 'I-S', 'O', 'O', 'O', 'O', 'O', 'B-S', 'I-S', 'I-S', 'B-Ref', 'I-Ref', 'I-Ref', 'O', 'B-S', 'O', 'B-S', 'O', 'O', 'O', 'B-S', 'B-Ref', 'I-Ref', 'I-Ref', 'O', 'O', 'O', 'O', 'B-S', 'I-S', 'O', 'O', 'O', 'O', 'B-QU', 'O', 'O', 'B-S', 'I-S', 'I-S', 'I-S', 'I-S', 'I-S', 'O', 'O', 'O', 'O', 'O', 'B-S', 'O', 'O', 'O', 'B-CR', 'I-CR', 'B-QU', 'B-S', 'O', 'O', 'B-S', 'I-S', 'I-S', 'I-S', 'I-S', 'I-S', 'O', 'O', 'B-S', 'B-S', 'I-S', 'O', 'B-S', 'I-S', 'B-CR', 'B-QU', 'B-CR', 'I-CR', 'O', 'B-S', 'O', 'B-S', 'I-S', 'O', 'O', 'B-S', 'O', 'O', 'B-S', 'O', 'O', 'O', 'O', 'B-S', 'B-Ref', 'I-Ref', 'I-Ref', 'I-Ref', 'O', 'B-S', 'O', 'B-S', 'I-S', 'O', 'B-S', 'I-S', 'O', 'B-S', 'B-Ref', 'I-Ref', 'I-Ref', 'I-Ref', 'I-Ref', 'O', 'O', 'O', 'O', 'O', 'O', 'O', 'B-S', 'I-S', 'O', 'O', 'B-S', 'I-S', 'O', 'O', 'B-S', 'O', 'O', 'O', 'B-S', 'B-CR', 'I-CR', 'B-QU', 'B-A', 'O', 'O', 'O', 'O', 'O', 'O', 'B-S', 'I-S', 'O', 'B-S', 'I-S', 'I-S', 'I-S', 'O', 'O', 'O', 'O', 'B-S', 'I-S', 'I-S', 'O', 'O', 'B-S', 'O', 'O', 'B-S', 'I-S', 'O', 'B-S', 'O', 'O', 'O', 'O', 'O', 'O', 'B-S', 'I-S', 'I-S', 'I-S', 'B-S', 'I-S', 'I-S', 'I-S', 'O', 'O', 'B-Ref', 'I-Ref', 'O', 'O', 'O', 'O', 'O', 'B-S', 'O', 'O', 'B-S', 'O', 'B-S', 'B-CR', 'B-S', 'O', 'B-QU', 'O', 'B-S', 'O', 'O', 'B-S', 'O', 'O', 'B-CR', 'O', 'B-QU', 'O', 'O', 'B-S', 'I-S', 'O', 'O', 'B-S', 'O', 'O', 'O', 'B-S', 'O', 'O', 'O', 'B-CR', 'O', 'B-QU', 'O', 'B-S', 'I-S', 'O', 'O', 'B-CR', 'O', 'B-CR', 'B-S', 'O', 'B-S', 'I-S', 'O', 'O', 'O', 'O', 'B-S', 'O', 'B-S', 'I-S', 'O', 'O', 'B-S', 'O', 'O', 'B-S', 'I-S', 'O', 'O', 'O', 'B-S', 'O', 'B-S', 'I-S', 'O', 'O', 'O', 'O', 'B-S', 'O', 'O', 'O', 'B-S', 'I-S', 'O', 'B-S', 'O', 'O', 'B-QU', 'B-A', 'O', 'B-S', 'O', 'O', 'O', 'O', 'O', 'O', 'B-S', 'O', 'B-QU', 'B-S', 'I-S', 'O', 'O', 'O', 'O', 'B-QU', 'I-QU', 'O', 'O', 'B-S', 'I-S', 'O', 'O', 'B-S', 'O', 'O', 'O', 'O', 'O', 'O', 'B-S', 'B-QU', 'B-A', 'O', 'O', 'B-CR', 'B-S', 'O', 'B-S', 'O', 'O', 'B-S', 'O', 'B-QU', 'O', 'O', 'B-S', 'O', 'B-QU', 'I-QU', 'O', 'O', 'B-S', 'I-S', 'I-S', 'O', 'O', 'O', 'O', 'B-S', 'I-S', 'O', 'O', 'O', 'B-S', 'B-CR', 'I-CR', 'B-A', 'O', 'B-S', 'I-S', 'O', 'O', 'O', 'O', 'O', 'O', 'B-S', 'B-Ref', 'I-Ref', 'I-Ref', 'I-Ref', 'I-Ref', 'O', 'B-S', 'O', 'O', 'B-S', 'I-S', 'B-CR', 'I-CR', 'B-QU', 'I-QU', 'B-Ref', 'I-Ref', 'I-Ref', 'O', 'B-S', 'I-S', 'I-S', 'O', 'O', 'O', 'O', 'O', 'B-S', 'O', 'B-S', 'O', 'B-CR', 'B-QU', 'B-S', 'O', 'O', 'O', 'B-S', 'I-S', 'I-S', 'I-S', 'O', 'B-S', 'O', 'B-CR', 'B-QU', 'I-QU', 'O', 'B-S', 'O', 'O', 'B-QU', 'O', 'B-CR', 'I-CR', 'B-QU', 'B-S', 'I-S', 'O', 'O', 'B-S', 'O', 'O', 'O', 'O', 'B-S', 'I-S', 'I-S', 'O', 'B-QU', 'O', 'O', 'B-S', 'I-S', 'I-S', 'I-S', 'O', 'B-S', 'O', 'B-S', 'I-S', 'I-S', 'I-S', 'O', 'O', 'O', 'B-Ref', 'I-Ref', 'O', 'B-S', 'O', 'B-S', 'O', 'O', 'O', 'B-S', 'B-CR', 'I-CR', 'B-QU', 'B-A', 'O', 'O', 'O', 'O', 'O', 'O', 'B-S', 'I-S', 'O', 'B-Ref', 'I-Ref', 'I-Ref', 'I-Ref', 'I-Ref', 'O', 'O', 'B-S', 'I-S', 'O', 'B-CR', 'B-S', 'I-S', 'O', 'O', 'B-S', 'I-S', 'B-S', 'I-S', 'O', 'B-S', 'I-S', 'B-CR', 'B-QU', 'B-CR', 'I-CR', 'O', 'B-S']\n"
          ]
        }
      ],
      "source": [
        "predic=[]\n",
        "for i in range(0, len(pred_labels)):\n",
        "  for k in range(0 , len(pred_labels[i])):\n",
        "    \n",
        "    predic.append(pred_labels[i][k])\n",
        "    k+=1\n",
        "  i+=1\n",
        "print(predic)\n",
        "\n",
        "testit=[]\n",
        "for j in range(0, len(test_labels)):\n",
        "  for l in range(0 , len(test_labels[j])):\n",
        "    testit.append(test_labels[j][l])\n",
        "    l+=1\n",
        "  j+=1\n",
        "print(testit)\n",
        "\n"
      ]
    },
    {
      "cell_type": "code",
      "execution_count": null,
      "metadata": {
        "colab": {
          "base_uri": "https://localhost:8080/"
        },
        "id": "ZHWKyoJNqY_l",
        "outputId": "746e4eba-7538-4224-8e93-63e4664aed11"
      },
      "outputs": [
        {
          "name": "stdout",
          "output_type": "stream",
          "text": [
            "              precision    recall  f1-score   support\n",
            "\n",
            "         B-A       0.93      0.64      0.76        22\n",
            "        B-CR       0.83      0.71      0.76        34\n",
            "        B-QU       0.90      0.87      0.88        53\n",
            "       B-Ref       0.93      0.96      0.94        26\n",
            "         B-S       0.87      0.92      0.90       182\n",
            "        I-CR       0.78      0.72      0.75        29\n",
            "        I-QU       1.00      1.00      1.00         7\n",
            "       I-Ref       0.93      0.99      0.96        90\n",
            "         I-S       0.90      0.83      0.87       156\n",
            "           O       0.95      0.97      0.96       488\n",
            "\n",
            "    accuracy                           0.92      1087\n",
            "   macro avg       0.90      0.86      0.88      1087\n",
            "weighted avg       0.92      0.92      0.91      1087\n",
            "\n"
          ]
        }
      ],
      "source": [
        "from sklearn.metrics import classification_report\n",
        "\n",
        "print(classification_report(testit, predic))"
      ]
    },
    {
      "cell_type": "code",
      "execution_count": null,
      "metadata": {
        "id": "8t6gY8l1B3qX"
      },
      "outputs": [],
      "source": [
        "y_true = []\n",
        "y_pred = []\n",
        "for line in test_labels:\n",
        "  for item in line:\n",
        "    y_true.append(item)\n",
        "for line in pred_labels:\n",
        "  for item in line:\n",
        "    y_pred.append(item)"
      ]
    },
    {
      "cell_type": "code",
      "execution_count": null,
      "metadata": {
        "colab": {
          "base_uri": "https://localhost:8080/"
        },
        "id": "vnWcscgSmXQy",
        "outputId": "81d55807-b567-4c5c-ac3c-478ee623c787"
      },
      "outputs": [
        {
          "data": {
            "text/plain": [
              "0.9162833486660533"
            ]
          },
          "execution_count": 32,
          "metadata": {},
          "output_type": "execute_result"
        }
      ],
      "source": [
        "from sklearn.metrics import f1_score\n",
        "\n",
        "f1_score(y_true=y_true, y_pred=y_pred, average='micro')"
      ]
    },
    {
      "cell_type": "code",
      "execution_count": null,
      "metadata": {
        "colab": {
          "base_uri": "https://localhost:8080/",
          "height": 1000
        },
        "id": "CZCAdtedmvMS",
        "outputId": "fedb32a0-7585-41f6-abd4-7b01283f9120"
      },
      "outputs": [
        {
          "name": "stdout",
          "output_type": "stream",
          "text": [
            "[[103   5   0   2   0   2  46   0   0  29   2]\n",
            " [  0  19   0   0   0   0   9   0   0   5   1]\n",
            " [  1   0   1   3   0   1   0   0   0   3   5]\n",
            " [  3   0   0  59   0   2   7   0   0   5   4]\n",
            " [  0   0   1   4   0   3   0   0   0   0   2]\n",
            " [  0   3   0   0   0  17   5   0   0   5   1]\n",
            " [  8   5   0   0   0   1 414   0   0  12   0]\n",
            " [  0   0   0   0   0   0   0   0   0   0   1]\n",
            " [  1   3   0   8   0   3   1   0   2   2   2]\n",
            " [ 15   4   0   2   0   1  15   0   2 130   3]\n",
            " [  2   0   0   7   0   5   0   0   0   1  25]]\n"
          ]
        },
        {
          "data": {
            "image/png": "[encoded data removed]",
            "text/plain": [
              "<Figure size 2000x2000 with 2 Axes>"
            ]
          },
          "metadata": {},
          "output_type": "display_data"
        }
      ],
      "source": [
        "#confusion matrix\n",
        "import itertools\n",
        "import matplotlib.pyplot as plt\n",
        "from sklearn.metrics import confusion_matrix\n",
        "import numpy as np\n",
        "def plot_confusion_matrix(cm, classes,\n",
        "                          normalize=False,\n",
        "                          title='Confusion matrix',\n",
        "                          cmap=plt.cm.Blues):\n",
        "    \n",
        "\n",
        "    print(cm)\n",
        "    plt.ion()\n",
        "    plt.figure(num=None, figsize=(20, 20), dpi=100, facecolor='w', edgecolor='k')\n",
        "    plt.imshow(cm, interpolation='nearest', cmap=cmap)\n",
        "\n",
        "    plt.colorbar()\n",
        "    tick_marks = np.arange(len(classes))\n",
        "    plt.xticks(tick_marks, classes, rotation=90)\n",
        "    plt.yticks(tick_marks, classes)\n",
        "    \n",
        "\n",
        "    fmt = '.2f' if normalize else 'd'\n",
        "    thresh = cm.max() / 2.\n",
        "    for i, j in itertools.product(range(cm.shape[0]), range(cm.shape[1])):\n",
        "        plt.text(j, i, format(cm[i, j], fmt),\n",
        "                 horizontalalignment=\"center\",\n",
        "                 color=\"white\" if cm[i, j] > thresh else \"black\")\n",
        "\n",
        "    plt.ylabel('True label')\n",
        "    plt.xlabel('Predicted label')\n",
        "    plt.tight_layout()\n",
        "\n",
        "    \n",
        "labels = ['I-S', 'B-CR', 'B-A', 'I-Ref', 'I-QU', 'I-CR' , 'O' ,'I-A', 'B-Ref', 'B-S' , 'B-QU']    \n",
        "\n",
        "cnf_matrix = confusion_matrix(y_true, y_pred,labels=labels)\n",
        "np.set_printoptions(precision=2)\n",
        "\n",
        "# Plot non-normalized confusion matrix\n",
        "\n",
        "plot_confusion_matrix(cnf_matrix, classes=labels,\n",
        "                      title='Confusion matrix, without normalization')"
      ]
    },
    {
      "cell_type": "code",
      "execution_count": null,
      "metadata": {
        "colab": {
          "base_uri": "https://localhost:8080/",
          "height": 295
        },
        "id": "v8CM-U6aGE9z",
        "outputId": "cd03cf29-6967-4575-c1d9-1deb3459972c"
      },
      "outputs": [
        {
          "data": {
            "image/png": "[encoded data removed]",
            "text/plain": [
              "<Figure size 432x288 with 1 Axes>"
            ]
          },
          "metadata": {},
          "output_type": "display_data"
        }
      ],
      "source": [
        "# Get all the sentences\n",
        "sentences = getter.sentences\n",
        "\n",
        "# Plot sentence by lenght\n",
        "plt.hist([len(s) for s in sentences], bins=50)\n",
        "plt.title('Token per sentence')\n",
        "plt.xlabel('Len (number of token)')\n",
        "plt.ylabel('# Sentences')\n",
        "plt.show()\n"
      ]
    },
    {
      "cell_type": "code",
      "execution_count": null,
      "metadata": {
        "colab": {
          "base_uri": "https://localhost:8080/",
          "height": 542
        },
        "id": "349gSjlQCxyc",
        "outputId": "c1e080fa-cbb9-4317-a35d-1a3d0882f83d"
      },
      "outputs": [
        {
          "data": {
            "text/html": [
              "<html>\n",
              "<head><meta charset=\"utf-8\" /></head>\n",
              "<body>\n",
              "    <div>            <script src=\"https://cdnjs.cloudflare.com/ajax/libs/mathjax/2.7.5/MathJax.js?config=TeX-AMS-MML_SVG\"></script><script type=\"text/javascript\">if (window.MathJax) {MathJax.Hub.Config({SVG: {font: \"STIX-Web\"}});}</script>                <script type=\"text/javascript\">window.PlotlyConfig = {MathJaxConfig: 'local'};</script>\n",
              "        <script src=\"https://cdn.plot.ly/plotly-2.8.3.min.js\"></script>                <div id=\"0365dc88-f566-43ce-903e-f1c46bb7bf8a\" class=\"plotly-graph-div\" style=\"height:525px; width:100%;\"></div>            <script type=\"text/javascript\">                                    window.PLOTLYENV=window.PLOTLYENV || {};                                    if (document.getElementById(\"0365dc88-f566-43ce-903e-f1c46bb7bf8a\")) {                    Plotly.newPlot(                        \"0365dc88-f566-43ce-903e-f1c46bb7bf8a\",                        [{\"labels\":[\"O\",\"S\",\"CR\",\"A\",\"Ref\",\"QU\"],\"values\":[5125,3639,622,172,880,622],\"type\":\"pie\",\"textfont\":{\"size\":20},\"marker\":{\"line\":{\"color\":\"#000000\",\"width\":1.5},\"colors\":[\"gold\",\"mediumturquoise\",\"darkorange\",\"lightgreen\"]},\"hoverinfo\":\"label+percent\",\"textinfo\":\"value\"}],                        {\"template\":{\"data\":{\"bar\":[{\"error_x\":{\"color\":\"#2a3f5f\"},\"error_y\":{\"color\":\"#2a3f5f\"},\"marker\":{\"line\":{\"color\":\"#E5ECF6\",\"width\":0.5},\"pattern\":{\"fillmode\":\"overlay\",\"size\":10,\"solidity\":0.2}},\"type\":\"bar\"}],\"barpolar\":[{\"marker\":{\"line\":{\"color\":\"#E5ECF6\",\"width\":0.5},\"pattern\":{\"fillmode\":\"overlay\",\"size\":10,\"solidity\":0.2}},\"type\":\"barpolar\"}],\"carpet\":[{\"aaxis\":{\"endlinecolor\":\"#2a3f5f\",\"gridcolor\":\"white\",\"linecolor\":\"white\",\"minorgridcolor\":\"white\",\"startlinecolor\":\"#2a3f5f\"},\"baxis\":{\"endlinecolor\":\"#2a3f5f\",\"gridcolor\":\"white\",\"linecolor\":\"white\",\"minorgridcolor\":\"white\",\"startlinecolor\":\"#2a3f5f\"},\"type\":\"carpet\"}],\"choropleth\":[{\"colorbar\":{\"outlinewidth\":0,\"ticks\":\"\"},\"type\":\"choropleth\"}],\"contour\":[{\"colorbar\":{\"outlinewidth\":0,\"ticks\":\"\"},\"colorscale\":[[0.0,\"#0d0887\"],[0.1111111111111111,\"#46039f\"],[0.2222222222222222,\"#7201a8\"],[0.3333333333333333,\"#9c179e\"],[0.4444444444444444,\"#bd3786\"],[0.5555555555555556,\"#d8576b\"],[0.6666666666666666,\"#ed7953\"],[0.7777777777777778,\"#fb9f3a\"],[0.8888888888888888,\"#fdca26\"],[1.0,\"#f0f921\"]],\"type\":\"contour\"}],\"contourcarpet\":[{\"colorbar\":{\"outlinewidth\":0,\"ticks\":\"\"},\"type\":\"contourcarpet\"}],\"heatmap\":[{\"colorbar\":{\"outlinewidth\":0,\"ticks\":\"\"},\"colorscale\":[[0.0,\"#0d0887\"],[0.1111111111111111,\"#46039f\"],[0.2222222222222222,\"#7201a8\"],[0.3333333333333333,\"#9c179e\"],[0.4444444444444444,\"#bd3786\"],[0.5555555555555556,\"#d8576b\"],[0.6666666666666666,\"#ed7953\"],[0.7777777777777778,\"#fb9f3a\"],[0.8888888888888888,\"#fdca26\"],[1.0,\"#f0f921\"]],\"type\":\"heatmap\"}],\"heatmapgl\":[{\"colorbar\":{\"outlinewidth\":0,\"ticks\":\"\"},\"colorscale\":[[0.0,\"#0d0887\"],[0.1111111111111111,\"#46039f\"],[0.2222222222222222,\"#7201a8\"],[0.3333333333333333,\"#9c179e\"],[0.4444444444444444,\"#bd3786\"],[0.5555555555555556,\"#d8576b\"],[0.6666666666666666,\"#ed7953\"],[0.7777777777777778,\"#fb9f3a\"],[0.8888888888888888,\"#fdca26\"],[1.0,\"#f0f921\"]],\"type\":\"heatmapgl\"}],\"histogram\":[{\"marker\":{\"pattern\":{\"fillmode\":\"overlay\",\"size\":10,\"solidity\":0.2}},\"type\":\"histogram\"}],\"histogram2d\":[{\"colorbar\":{\"outlinewidth\":0,\"ticks\":\"\"},\"colorscale\":[[0.0,\"#0d0887\"],[0.1111111111111111,\"#46039f\"],[0.2222222222222222,\"#7201a8\"],[0.3333333333333333,\"#9c179e\"],[0.4444444444444444,\"#bd3786\"],[0.5555555555555556,\"#d8576b\"],[0.6666666666666666,\"#ed7953\"],[0.7777777777777778,\"#fb9f3a\"],[0.8888888888888888,\"#fdca26\"],[1.0,\"#f0f921\"]],\"type\":\"histogram2d\"}],\"histogram2dcontour\":[{\"colorbar\":{\"outlinewidth\":0,\"ticks\":\"\"},\"colorscale\":[[0.0,\"#0d0887\"],[0.1111111111111111,\"#46039f\"],[0.2222222222222222,\"#7201a8\"],[0.3333333333333333,\"#9c179e\"],[0.4444444444444444,\"#bd3786\"],[0.5555555555555556,\"#d8576b\"],[0.6666666666666666,\"#ed7953\"],[0.7777777777777778,\"#fb9f3a\"],[0.8888888888888888,\"#fdca26\"],[1.0,\"#f0f921\"]],\"type\":\"histogram2dcontour\"}],\"mesh3d\":[{\"colorbar\":{\"outlinewidth\":0,\"ticks\":\"\"},\"type\":\"mesh3d\"}],\"parcoords\":[{\"line\":{\"colorbar\":{\"outlinewidth\":0,\"ticks\":\"\"}},\"type\":\"parcoords\"}],\"pie\":[{\"automargin\":true,\"type\":\"pie\"}],\"scatter\":[{\"marker\":{\"colorbar\":{\"outlinewidth\":0,\"ticks\":\"\"}},\"type\":\"scatter\"}],\"scatter3d\":[{\"line\":{\"colorbar\":{\"outlinewidth\":0,\"ticks\":\"\"}},\"marker\":{\"colorbar\":{\"outlinewidth\":0,\"ticks\":\"\"}},\"type\":\"scatter3d\"}],\"scattercarpet\":[{\"marker\":{\"colorbar\":{\"outlinewidth\":0,\"ticks\":\"\"}},\"type\":\"scattercarpet\"}],\"scattergeo\":[{\"marker\":{\"colorbar\":{\"outlinewidth\":0,\"ticks\":\"\"}},\"type\":\"scattergeo\"}],\"scattergl\":[{\"marker\":{\"colorbar\":{\"outlinewidth\":0,\"ticks\":\"\"}},\"type\":\"scattergl\"}],\"scattermapbox\":[{\"marker\":{\"colorbar\":{\"outlinewidth\":0,\"ticks\":\"\"}},\"type\":\"scattermapbox\"}],\"scatterpolar\":[{\"marker\":{\"colorbar\":{\"outlinewidth\":0,\"ticks\":\"\"}},\"type\":\"scatterpolar\"}],\"scatterpolargl\":[{\"marker\":{\"colorbar\":{\"outlinewidth\":0,\"ticks\":\"\"}},\"type\":\"scatterpolargl\"}],\"scatterternary\":[{\"marker\":{\"colorbar\":{\"outlinewidth\":0,\"ticks\":\"\"}},\"type\":\"scatterternary\"}],\"surface\":[{\"colorbar\":{\"outlinewidth\":0,\"ticks\":\"\"},\"colorscale\":[[0.0,\"#0d0887\"],[0.1111111111111111,\"#46039f\"],[0.2222222222222222,\"#7201a8\"],[0.3333333333333333,\"#9c179e\"],[0.4444444444444444,\"#bd3786\"],[0.5555555555555556,\"#d8576b\"],[0.6666666666666666,\"#ed7953\"],[0.7777777777777778,\"#fb9f3a\"],[0.8888888888888888,\"#fdca26\"],[1.0,\"#f0f921\"]],\"type\":\"surface\"}],\"table\":[{\"cells\":{\"fill\":{\"color\":\"#EBF0F8\"},\"line\":{\"color\":\"white\"}},\"header\":{\"fill\":{\"color\":\"#C8D4E3\"},\"line\":{\"color\":\"white\"}},\"type\":\"table\"}]},\"layout\":{\"annotationdefaults\":{\"arrowcolor\":\"#2a3f5f\",\"arrowhead\":0,\"arrowwidth\":1},\"autotypenumbers\":\"strict\",\"coloraxis\":{\"colorbar\":{\"outlinewidth\":0,\"ticks\":\"\"}},\"colorscale\":{\"diverging\":[[0,\"#8e0152\"],[0.1,\"#c51b7d\"],[0.2,\"#de77ae\"],[0.3,\"#f1b6da\"],[0.4,\"#fde0ef\"],[0.5,\"#f7f7f7\"],[0.6,\"#e6f5d0\"],[0.7,\"#b8e186\"],[0.8,\"#7fbc41\"],[0.9,\"#4d9221\"],[1,\"#276419\"]],\"sequential\":[[0.0,\"#0d0887\"],[0.1111111111111111,\"#46039f\"],[0.2222222222222222,\"#7201a8\"],[0.3333333333333333,\"#9c179e\"],[0.4444444444444444,\"#bd3786\"],[0.5555555555555556,\"#d8576b\"],[0.6666666666666666,\"#ed7953\"],[0.7777777777777778,\"#fb9f3a\"],[0.8888888888888888,\"#fdca26\"],[1.0,\"#f0f921\"]],\"sequentialminus\":[[0.0,\"#0d0887\"],[0.1111111111111111,\"#46039f\"],[0.2222222222222222,\"#7201a8\"],[0.3333333333333333,\"#9c179e\"],[0.4444444444444444,\"#bd3786\"],[0.5555555555555556,\"#d8576b\"],[0.6666666666666666,\"#ed7953\"],[0.7777777777777778,\"#fb9f3a\"],[0.8888888888888888,\"#fdca26\"],[1.0,\"#f0f921\"]]},\"colorway\":[\"#636efa\",\"#EF553B\",\"#00cc96\",\"#ab63fa\",\"#FFA15A\",\"#19d3f3\",\"#FF6692\",\"#B6E880\",\"#FF97FF\",\"#FECB52\"],\"font\":{\"color\":\"#2a3f5f\"},\"geo\":{\"bgcolor\":\"white\",\"lakecolor\":\"white\",\"landcolor\":\"#E5ECF6\",\"showlakes\":true,\"showland\":true,\"subunitcolor\":\"white\"},\"hoverlabel\":{\"align\":\"left\"},\"hovermode\":\"closest\",\"mapbox\":{\"style\":\"light\"},\"paper_bgcolor\":\"white\",\"plot_bgcolor\":\"#E5ECF6\",\"polar\":{\"angularaxis\":{\"gridcolor\":\"white\",\"linecolor\":\"white\",\"ticks\":\"\"},\"bgcolor\":\"#E5ECF6\",\"radialaxis\":{\"gridcolor\":\"white\",\"linecolor\":\"white\",\"ticks\":\"\"}},\"scene\":{\"xaxis\":{\"backgroundcolor\":\"#E5ECF6\",\"gridcolor\":\"white\",\"gridwidth\":2,\"linecolor\":\"white\",\"showbackground\":true,\"ticks\":\"\",\"zerolinecolor\":\"white\"},\"yaxis\":{\"backgroundcolor\":\"#E5ECF6\",\"gridcolor\":\"white\",\"gridwidth\":2,\"linecolor\":\"white\",\"showbackground\":true,\"ticks\":\"\",\"zerolinecolor\":\"white\"},\"zaxis\":{\"backgroundcolor\":\"#E5ECF6\",\"gridcolor\":\"white\",\"gridwidth\":2,\"linecolor\":\"white\",\"showbackground\":true,\"ticks\":\"\",\"zerolinecolor\":\"white\"}},\"shapedefaults\":{\"line\":{\"color\":\"#2a3f5f\"}},\"ternary\":{\"aaxis\":{\"gridcolor\":\"white\",\"linecolor\":\"white\",\"ticks\":\"\"},\"baxis\":{\"gridcolor\":\"white\",\"linecolor\":\"white\",\"ticks\":\"\"},\"bgcolor\":\"#E5ECF6\",\"caxis\":{\"gridcolor\":\"white\",\"linecolor\":\"white\",\"ticks\":\"\"}},\"title\":{\"x\":0.05},\"xaxis\":{\"automargin\":true,\"gridcolor\":\"white\",\"linecolor\":\"white\",\"ticks\":\"\",\"title\":{\"standoff\":15},\"zerolinecolor\":\"white\",\"zerolinewidth\":2},\"yaxis\":{\"automargin\":true,\"gridcolor\":\"white\",\"linecolor\":\"white\",\"ticks\":\"\",\"title\":{\"standoff\":15},\"zerolinecolor\":\"white\",\"zerolinewidth\":2}}}},                        {\"responsive\": true}                    ).then(function(){\n",
              "                            \n",
              "var gd = document.getElementById('0365dc88-f566-43ce-903e-f1c46bb7bf8a');\n",
              "var x = new MutationObserver(function (mutations, observer) {{\n",
              "        var display = window.getComputedStyle(gd).display;\n",
              "        if (!display || display === 'none') {{\n",
              "            console.log([gd, 'removed!']);\n",
              "            Plotly.purge(gd);\n",
              "            observer.disconnect();\n",
              "        }}\n",
              "}});\n",
              "\n",
              "// Listen for the removal of the full notebook cells\n",
              "var notebookContainer = gd.closest('#notebook-container');\n",
              "if (notebookContainer) {{\n",
              "    x.observe(notebookContainer, {childList: true});\n",
              "}}\n",
              "\n",
              "// Listen for the clearing of the current output cell\n",
              "var outputEl = gd.closest('.output');\n",
              "if (outputEl) {{\n",
              "    x.observe(outputEl, {childList: true});\n",
              "}}\n",
              "\n",
              "                        })                };                            </script>        </div>\n",
              "</body>\n",
              "</html>"
            ]
          },
          "metadata": {},
          "output_type": "display_data"
        }
      ],
      "source": [
        "import plotly.graph_objects as go\n",
        "colors = ['gold', 'mediumturquoise', 'darkorange', 'lightgreen']\n",
        "\n",
        "fig = go.Figure(data=[go.Pie(labels=['O','S','CR','A','Ref', 'QU' ],\n",
        "                             values=[5125,3639,622,172,880,622])])\n",
        "fig.update_traces(hoverinfo='label+percent', textinfo='value', textfont_size=20,\n",
        "                  marker=dict(colors=colors, line=dict(color='#000000', width=1.5)))\n",
        "fig.show()"
      ]
    },
    {
      "cell_type": "markdown",
      "metadata": {
        "id": "d4gYa-gYL4vJ"
      },
      "source": []
    }
  ],
  "metadata": {
    "accelerator": "GPU",
    "colab": {
      "provenance": [],
      "include_colab_link": true
    },
    "kernelspec": {
      "display_name": "Python 3",
      "name": "python3"
    }
  },
  "nbformat": 4,
  "nbformat_minor": 0
}